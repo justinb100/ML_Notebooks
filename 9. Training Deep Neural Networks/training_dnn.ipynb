{
 "cells": [
  {
   "cell_type": "markdown",
   "metadata": {},
   "source": [
    "# Training Deep Neural Networks <a class=\"anchor\" id=\"top\"></a>"
   ]
  },
  {
   "cell_type": "markdown",
   "metadata": {},
   "source": [
    "This notebook was written by following the textbook of  Aurélien Géron's *Hands-On Machine Learning with Scikit-Learn and TensorFlow*, along with associated datasets ([Link to Github Repo](https://github.com/ageron/handson-ml/)). The contents in this notebook are my notes from reading the textbook."
   ]
  },
  {
   "cell_type": "markdown",
   "metadata": {},
   "source": [
    "### Notebook by Justin Bandoro"
   ]
  },
  {
   "cell_type": "markdown",
   "metadata": {},
   "source": [
    "For complex problems, such as detecting hundreds of types of objects in high-resolution images, you may need to train a deeper DNN with up to 10 layers, each containing hundreds of neurons, connected by hundred of thousands of connections. There are a few problems that arise:\n",
    "\n",
    "1. *Vanishing gradient* problem (or exploding gradient) that affects deep neural networks and makes lower layers hard to train.\n",
    "2. Training would be quite slow with such a large network.\n",
    "3. A model with millions of parameters would risk overfitting the training set.\n",
    "\n",
    "We will address all of the above with techniques to solve them."
   ]
  },
  {
   "cell_type": "code",
   "execution_count": 1,
   "metadata": {},
   "outputs": [],
   "source": [
    "# Load modules\n",
    "import matplotlib\n",
    "%matplotlib inline\n",
    "import matplotlib.pylab as plt\n",
    "from IPython.display import display\n",
    "import numpy as np\n",
    "import pandas as pd\n",
    "import seaborn as sns\n",
    "import scipy.io as sio\n",
    "from matplotlib import cm\n",
    "from sklearn.pipeline import Pipeline\n",
    "from sklearn.preprocessing import StandardScaler\n",
    "import tensorflow as tf"
   ]
  },
  {
   "cell_type": "markdown",
   "metadata": {},
   "source": [
    "### Viewing TensorBoard in Jupyter\n",
    "Quick script to view our graphs in the notebook."
   ]
  },
  {
   "cell_type": "code",
   "execution_count": 2,
   "metadata": {},
   "outputs": [],
   "source": [
    "from IPython.display import clear_output, Image, display, HTML\n",
    "\n",
    "def strip_consts(graph_def, max_const_size=32):\n",
    "    \"\"\"Strip large constant values from graph_def.\"\"\"\n",
    "    strip_def = tf.GraphDef()\n",
    "    for n0 in graph_def.node:\n",
    "        n = strip_def.node.add() \n",
    "        n.MergeFrom(n0)\n",
    "        if n.op == 'Const':\n",
    "            tensor = n.attr['value'].tensor\n",
    "            size = len(tensor.tensor_content)\n",
    "            if size > max_const_size:\n",
    "                tensor.tensor_content = b\"<stripped %d bytes>\"%size\n",
    "    return strip_def\n",
    "\n",
    "def show_graph(graph_def, max_const_size=32):\n",
    "    \"\"\"Visualize TensorFlow graph.\"\"\"\n",
    "    if hasattr(graph_def, 'as_graph_def'):\n",
    "        graph_def = graph_def.as_graph_def()\n",
    "    strip_def = strip_consts(graph_def, max_const_size=max_const_size)\n",
    "    code = \"\"\"\n",
    "        <script>\n",
    "          function load() {{\n",
    "            document.getElementById(\"{id}\").pbtxt = {data};\n",
    "          }}\n",
    "        </script>\n",
    "        <link rel=\"import\" href=\"https://tensorboard.appspot.com/tf-graph-basic.build.html\" onload=load()>\n",
    "        <div style=\"height:350px\">\n",
    "          <tf-graph-basic id=\"{id}\"></tf-graph-basic>\n",
    "        </div>\n",
    "    \"\"\".format(data=repr(str(strip_def)), id='graph'+str(np.random.rand()))\n",
    "\n",
    "    iframe = \"\"\"\n",
    "        <iframe seamless style=\"width:800px;height:400px;border:0\" srcdoc=\"{}\"></iframe>\n",
    "    \"\"\".format(code.replace('\"', '&quot;'))\n",
    "    display(HTML(iframe))"
   ]
  },
  {
   "cell_type": "markdown",
   "metadata": {},
   "source": [
    "## 1. Vanishing/Exploding Gradients Problem <a class=\"anchor\" id=\"vanishing\"></a>"
   ]
  },
  {
   "cell_type": "markdown",
   "metadata": {},
   "source": [
    "The backpropagation method works by going from the output layer to the input layer, propagating the error gradient on the way. When the algorithm  has computed the gradient of the cost function with regards to each parameter in the network, it uses the gradients to update each parameter with a Gradient Descent step.\n",
    "\n",
    "As the algorithm proceeds backwards down all of the layers, the gradients get smaller and smaller. As a result, the updating of lower layers can leave the connection weights virtually unchanged, and training never converges to a good solution. This is called **vanishing gradients** problem, and in some cases the opposite can happen: the gradients can grow larger and larger and layers get insanely large weight updates and the algorithm diverges (**exploding gradients**). The latter is encountered in recurrent neural networks. This was one of the reasons that DNNs were abandonned in the 1990s.\n",
    "\n",
    "It was found in 2010 that the combination of the popular logistic sigmoid activation function and the weight initialization technique of a normal distribution with a mean of 0 and standard deviation of 1. It was found that the variance of outputs of each layer was greater than the variance of its inputs, and thus going forward the the variance keeps increasing after each layer until the activation function saturates at the top layers. Looking at the logistic activation function below we see that when the inputs become large (negative or positive) the function satures at 0 or 1 with a derivative close to 0. Thus when backpropagtion kicks in there is virtually no gradient to propagate back through the network. The gradient that is propagated backwards is diluted after each layer and there is nothing left in the lower layers."
   ]
  },
  {
   "cell_type": "code",
   "execution_count": 4,
   "metadata": {},
   "outputs": [
    {
     "data": {
      "text/plain": [
       "<matplotlib.lines.Line2D at 0x12be1d668>"
      ]
     },
     "execution_count": 4,
     "metadata": {},
     "output_type": "execute_result"
    },
    {
     "data": {
      "image/png": "[encoded data removed]",
      "text/plain": [
       "<matplotlib.figure.Figure at 0x12bde6d30>"
      ]
     },
     "metadata": {},
     "output_type": "display_data"
    }
   ],
   "source": [
    "# Plot sigmoid function\n",
    "z     = np.linspace(-5,5,50)\n",
    "sigma = 1./(1+np.exp(-z))\n",
    "fig,ax= plt.subplots(1,figsize=[8,3])\n",
    "ax.plot(z,sigma);ax.set_xlabel('z');ax.set_ylabel(r'$\\sigma$')\n",
    "ax.axvline([0],color='k',ls='--');ax.axhline([0.5],color='k',ls='--')"
   ]
  },
  {
   "cell_type": "markdown",
   "metadata": {},
   "source": [
    "### Xavier and He Initialization\n",
    "The problem is that the signal needs to be able to flow properly in both directions: in the forward direction when making predictions, and in the reverse when backpropagating gradients. We don't want the signal to vanish or explode/saturate. For this to happen the variance of the outputs needs to be equal to the variance of the inputs, and the gradients need to have equal variance before and after flowing through the layer in the reverse direction.\n",
    "\n",
    "The weights must be initialized randomly where $n_{inputs}$ and $n_{ouputs}$ are the number of input and ouput connections for the layer whose weights are being initialized (called fan-in and fan-out).\n",
    "\n",
    "> Normal distribution with mean 0 and standard deviation $\\sigma = \\sqrt{ \\frac{2}{n_{inputs}+n_{outputs}}  }$\n",
    "\n",
    "> Uniform distribution between $-r$ and $+r$ with $r=\\sqrt{ \\frac{6}{n_{inputs}+n_{outputs}}  }$\n",
    "\n",
    "When the number of input connections is roughly equal to the number of output connections, the above simplifies to $\\sigma=1/\\sqrt{n_{inputs}}$ or $r=\\sqrt{3}/\\sqrt{n_{inputs}}$. Below are the known initializations for different activation functions:\n",
    "\n",
    "| Activation function  |Uniform distribution | Normal distribution   |\n",
    "|---|---|---|\n",
    "|Logistic       | $r=\\sqrt{ \\frac{6}{n_{inputs}+n_{outputs}}  }$  | $\\sigma = \\sqrt{ \\frac{2}{n_{inputs}+n_{outputs}}  }$  |\n",
    "|Hyperbolic tan | $r=4\\sqrt{ \\frac{6}{n_{inputs}+n_{outputs}}  }$  | $\\sigma = 4\\sqrt{ \\frac{2}{n_{inputs}+n_{outputs}}  }$  |\n",
    "|ReLU           | $r=\\sqrt{2} \\sqrt{ \\frac{6}{n_{inputs}+n_{outputs}}  }$  |$\\sigma = \\sqrt{2}\\sqrt{ \\frac{2}{n_{inputs}+n_{outputs}}  }$   |\n",
    "\n",
    "By default, the `fully_connected()` function uses logistic uniform distribution. This can be changed by using the `tf.layers.variance_scaling_initializer()`. With the new api, the `dense()` function has `kernel_initializer` paramter. "
   ]
  },
  {
   "cell_type": "code",
   "execution_count": 5,
   "metadata": {},
   "outputs": [],
   "source": [
    "import tensorflow as tf\n",
    "tf.reset_default_graph()\n",
    "# MNIST type input\n",
    "n_inputs=28*28\n",
    "n_hidden1= 300\n",
    "# Placeholders\n",
    "X=tf.placeholder(tf.float32,shape=(None,n_inputs),name='X')\n",
    "# Change intializer\n",
    "he_init = tf.contrib.layers.variance_scaling_initializer()\n",
    "hidden1 = tf.layers.dense(X,n_hidden1,activation=tf.nn.relu,\n",
    "                         kernel_initializer=he_init,name='hidden1')"
   ]
  },
  {
   "cell_type": "markdown",
   "metadata": {},
   "source": [
    "### Nonsaturating Activation Functions\n",
    "Since it was known that the brain's neurons use sigmoid shaped activation functions, it was thought they were the best choice for ANNs. However other activation functions behave better in DNNs, with ReLU activation function being a good choice because it does not saturate for positive values.\n",
    "\n",
    "ReLU activation has problems though, it suffers from *dying* ReLUs during training where some neurons effectively die, meaning they stop outputting anything other than 0. During training, if a neuron's weights get updated such that the weighted sum of the neuron's inputs is negative, it will start outputting 0. When this happens the neuron is unlikely to come back to life as the gradient is 0.\n",
    "\n",
    "To solve this issue a **Leaky ReLU** can be used where the function is defined as: $ReLU_{\\alpha}(z) = \\max(\\alpha z, z)$. The hyperparameter $\\alpha$ determines how much the function leaks, it is the slope of the function for $z<0$, and is typically set to 0.01."
   ]
  },
  {
   "cell_type": "code",
   "execution_count": 11,
   "metadata": {},
   "outputs": [
    {
     "data": {
      "text/plain": [
       "<matplotlib.legend.Legend at 0x12f7b09e8>"
      ]
     },
     "execution_count": 11,
     "metadata": {},
     "output_type": "execute_result"
    },
    {
     "data": {
      "image/png": "[encoded data removed]",
      "text/plain": [
       "<matplotlib.figure.Figure at 0x12f400550>"
      ]
     },
     "metadata": {},
     "output_type": "display_data"
    }
   ],
   "source": [
    "# ReLU vs Leaky ReLU\n",
    "z     = np.linspace(-2,2,50)\n",
    "def relu(z):\n",
    "    return np.maximum(z,0)\n",
    "def leaky_relu(z,alpha=0.01):\n",
    "    return np.maximum(z,alpha*z)\n",
    "fig,ax= plt.subplots(1,figsize=[8,3])\n",
    "ax.plot(z,relu(z),label='ReLU'); ax.plot(z,leaky_relu(z,0.05),label='Leaky ReLU')\n",
    "ax.set_xlabel('z'); ax.legend()"
   ]
  },
  {
   "cell_type": "markdown",
   "metadata": {},
   "source": [
    "The small slope of the leak, ensures that the leaky ReLUs never die; they can go into a long coma, but they have a chance to eventually wake up. The leaky variants always outperformed the ReLU activation function. \n",
    "\n",
    "Another activation function called the exponential linear unit (ELU) was found to outperform the ReLU variants in some experiments. It is represented as:\n",
    "\n",
    "$ELU_\\alpha(z) = \\left\\{\n",
    "\\begin{array}{l,c,l}\n",
    "      \\alpha(\\exp(z)-1),& if& z <  0 \\\\\n",
    "      z, &if  z \\geq  0 \\\\\n",
    "\\end{array} \n",
    "\\right.$"
   ]
  },
  {
   "cell_type": "code",
   "execution_count": 12,
   "metadata": {},
   "outputs": [
    {
     "data": {
      "text/plain": [
       "<matplotlib.legend.Legend at 0x12f8edba8>"
      ]
     },
     "execution_count": 12,
     "metadata": {},
     "output_type": "execute_result"
    },
    {
     "data": {
      "image/png": "[encoded data removed]",
      "text/plain": [
       "<matplotlib.figure.Figure at 0x12f75ef98>"
      ]
     },
     "metadata": {},
     "output_type": "display_data"
    }
   ],
   "source": [
    "def elu(z,alpha=1):\n",
    "    return np.where(z < 0, alpha * (np.exp(z) - 1), z)\n",
    "\n",
    "fig,ax= plt.subplots(1,figsize=[8,3])\n",
    "ax.plot(z,relu(z),label='ReLU'); ax.plot(z,leaky_relu(z,0.05),label='Leaky ReLU')\n",
    "ax.plot(z,elu(z),label='ELU')\n",
    "ax.set_xlabel('z'); ax.legend()"
   ]
  },
  {
   "cell_type": "markdown",
   "metadata": {},
   "source": [
    "Different from the ReLU, the ELU:\n",
    "1. Has negative values when $z<0$ which allows the unit to have an average output closer to 0. Helps alleivate the vanishing gradient problem. The hyperparameter $\\alpha$ defines the value that the ELU function approaches when $z$ is large and negative. It is usually set to 1, but can be tweaked.\n",
    "2. Has a nonzero gradient for $z<0$, which avoids the dying issue.\n",
    "3. Is smooth everywhere, including around 0, which helps speed up Gradient Descent as it does not bounce as much around $z=0$.\n",
    "\n",
    "The disadvantage is that it is slower to compute the activation function (due to the exponential), but this is compensated by faster convergence. "
   ]
  },
  {
   "cell_type": "markdown",
   "metadata": {},
   "source": [
    "> Which Activation Function to choose for hidden layers? In general ELU > leaky ReLU > ReLU > tanh > logistic. If runtime needs to be fast then leaky ReLU might be better than ELU. If you don't want to tweak any hyperparameters you can use the default $\\alpha$ of 0.01 for leaky ReLU and 1 for ELU. \n",
    "\n",
    "Below we show an example on the MNIST data using the ELU activation function with he_initialization. Note that there is an ELU activation function in `tf.nn.elu`."
   ]
  },
  {
   "cell_type": "code",
   "execution_count": 16,
   "metadata": {},
   "outputs": [
    {
     "name": "stdout",
     "output_type": "stream",
     "text": [
      "Extracting /tmp/data/train-images-idx3-ubyte.gz\n",
      "Extracting /tmp/data/train-labels-idx1-ubyte.gz\n",
      "Extracting /tmp/data/t10k-images-idx3-ubyte.gz\n",
      "Extracting /tmp/data/t10k-labels-idx1-ubyte.gz\n",
      "0  Train accuracy:  0.84 \t Test accuracy:  0.906\n",
      "10  Train accuracy:  0.96 \t Test accuracy:  0.951\n",
      "20  Train accuracy:  0.94 \t Test accuracy:  0.9643\n",
      "30  Train accuracy:  1.0 \t Test accuracy:  0.9707\n"
     ]
    }
   ],
   "source": [
    "from tensorflow.examples.tutorials.mnist import input_data\n",
    "tf.reset_default_graph()\n",
    "\n",
    "def elu(z,alpha=1,name=None):\n",
    "    return tf.where(z < 0, alpha*(tf.exp(z) - 1), z,name=name)\n",
    "\n",
    "# MNIST input data\n",
    "mnist = input_data.read_data_sets(\"/tmp/data/\")\n",
    "n_inputs = 28*28 # number of pixels\n",
    "n_hidden1 = 300; n_hidden2 = 100\n",
    "n_outputs = 10\n",
    "# Placeholders for training data\n",
    "X = tf.placeholder(tf.float32, shape=(None,n_inputs),name='X')\n",
    "y = tf.placeholder(tf.int64, shape=(None),name='y')\n",
    "# Change intializer\n",
    "he_init = tf.contrib.layers.variance_scaling_initializer()\n",
    "# Neural Network\n",
    "with tf.name_scope('dnn'):\n",
    "    hidden1 = tf.layers.dense(X,n_hidden1,name= \"hidden1\",activation=elu,kernel_initializer=he_init)\n",
    "    hidden2 = tf.layers.dense(hidden1, n_hidden2, name='hidden2',activation=elu,kernel_initializer=he_init)\n",
    "    logits  = tf.layers.dense(hidden2, n_outputs, name=\"outputs\")\n",
    "# Loss Function\n",
    "with tf.name_scope('loss'):\n",
    "    xentropy = tf.nn.sparse_softmax_cross_entropy_with_logits(labels=y,logits=logits)\n",
    "    loss  = tf.reduce_mean(xentropy,name='loss')\n",
    "# Minimize Cost Function\n",
    "eta = 0.01\n",
    "with tf.name_scope('train'):\n",
    "    optimizer = tf.train.GradientDescentOptimizer(eta)\n",
    "    training_op = optimizer.minimize(loss)\n",
    "# Evaluation\n",
    "with tf.name_scope('eval'):\n",
    "    # Find whether the top logit (prediction) is the same as y, returns boolean of instances\n",
    "    correct = tf.nn.in_top_k(logits,y,1) \n",
    "    # Determine accuracy\n",
    "    accuracy = tf.reduce_mean(tf.cast(correct,tf.float32))\n",
    "# Initialize all variables and create a SAver\n",
    "init = tf.global_variables_initializer()\n",
    "saver = tf.train.Saver()\n",
    "\n",
    "# Execution\n",
    "# Epochs and batch size\n",
    "n_epochs = 40\n",
    "batch_size= 50\n",
    "# Train the model\n",
    "with tf.Session() as sess:\n",
    "    init.run()\n",
    "    for epoch in range(n_epochs):\n",
    "        for iteration in range(mnist.train.num_examples//batch_size): #integer division\n",
    "            # Grab batch\n",
    "            X_batch,y_batch = mnist.train.next_batch(batch_size)\n",
    "            # Run optimization\n",
    "            sess.run(training_op,feed_dict={X:X_batch,y:y_batch})\n",
    "        # Accuracy\n",
    "        acc_train = accuracy.eval(feed_dict={X:X_batch,y:y_batch})\n",
    "        acc_test  = accuracy.eval(feed_dict={X:mnist.test.images,y:mnist.test.labels})\n",
    "        if epoch % 10 == 0:\n",
    "            print(epoch,' Train accuracy: ', acc_train, '\\t Test accuracy: ', acc_test)"
   ]
  },
  {
   "cell_type": "markdown",
   "metadata": {},
   "source": [
    "### Batch Normalization\n",
    "\n",
    "Although using He intialization along with ELU (or ReLU) can reduce the vanishing/exploding gradients problem. at the beggining of training. It doesnt' guarantee they won't come back during training.\n",
    "\n",
    "Batch Normalization is a technique that consists of adding an operation in the model just before the activation function of each layer, simply zero-centering and normalizing the inputs, then scaling and shifting the result using two new parameters per layer (one for scaling, and one for shifting). This lets the model learn the optimal scale and mean of the inputs for each layer.\n",
    "\n",
    "To zero-center and normalize the inputs, the algorithm needs to estimate the inputs' mean and standard deviation. It does this by evaluating the mean and standard deviation of the inputs over the current mini-batch. The operation is summarized below:\n",
    "\n",
    "1. $\\mu_B = \\frac{1}{m_B} \\sum\\limits_{i=1}^{m_B} \\textbf{x}^{(i)} $ , $\\mu_B$ is the empirical mean, evaluated over the whole mini-batch, $B$, with $m_B$ the size of the mini-batch.\n",
    "2. $\\sigma_B^2 = \\frac{1}{m_B} \\sum\\limits_{i=1}^{m_B}(\\textbf{x}^{(i)}-\\mu_B)^2 $, $\\sigma_B$ is the empirical standard deviation evaluated over the whole mini-batch.\n",
    "3.  $\\chi^{(i)} = \\frac{\\textbf{x}^{(i)}-\\mu_B }{\\sqrt{\\sigma_B^2 + \\epsilon} }$,$\\chi^{(i)}$ is the zero-centered and normalized input, and $\\epsilon$ is a tiny number to avoid division by zero (typically $10^{-3}$) known as the smoothing term.\n",
    "4. $\\textbf{z}^{(i)} = \\gamma \\textbf{x}^{(i)} + \\beta$, where $\\beta$ is the shifting parameter and $\\gamma$ is the scaling parameter of the layer. $\\textbf{z}^{(i)}$ is the output of the BN operation: scaled and shifed version of the inputs.\n",
    "\n",
    "At test time, there is no mini-batch to compute the empirical mean and standard deviation, so instead the whole training set's mean and standard deviation is used. In total 4 parameters are learned for each batch-normalized layer: $\\gamma$ (scale), $\\beta$ (offset), $\\mu$ (mean), and $\\sigma$ (standard deviation).\n",
    "\n",
    "This method was found to improve DNN such that the vanishing gradient problem is reduced, less sensitive to the weight initialization, and larger learning rates could be used. BN removes the need for normalizing the input data, since the first hidden layer perform this. However extra computations are needed at each layer incurring computational penalty. So if speed is of utmost importance, better to use ELU + He initialization first.\n",
    "\n",
    "#### Implementing Batch Normalization with TensorFlow\n",
    "TF provides a `batch_normalization()` function that centers and normalizes the inputs but you must compute the mean and standard deviation yourself and pass them as parameters to this function. You must also handle the creation of the scaling and offset parameters and pass them to this function. This is doable but complicated and messy, it is better to use the `batch_norm()` function, which handles all of this for you."
   ]
  },
  {
   "cell_type": "code",
   "execution_count": 17,
   "metadata": {},
   "outputs": [],
   "source": [
    "tf.reset_default_graph()\n",
    "# Placeholders for training data\n",
    "X = tf.placeholder(tf.float32, shape=(None,n_inputs),name='X')\n",
    "y = tf.placeholder(tf.int64, shape=(None),name='y')\n",
    "training = tf.placeholder_with_default(False, shape=(), name='training')\n",
    "\n",
    "# Initializer\n",
    "he_init = tf.contrib.layers.variance_scaling_initializer()\n",
    "# Hidden Layers\n",
    "hidden1 = tf.layers.dense(X,n_hidden1,name='hidden1')\n",
    "bn1     = tf.layers.batch_normalization(hidden1,training=training,momentum=0.9)\n",
    "bn1_act = tf.nn.elu(bn1)\n",
    "\n",
    "hidden2 = tf.layers.dense(bn1_act,n_hidden1,name='hidden2')\n",
    "bn2     = tf.layers.batch_normalization(hidden2,training=training,momentum=0.9)\n",
    "bn2_act = tf.nn.elu(bn2)\n",
    "\n",
    "logits_before_bn = tf.layers.dense(bn2_act, n_outputs, name=\"outputs\")\n",
    "logits = tf.layers.batch_normalization(logits_before_bn, training=training,\n",
    "                                       momentum=0.9)"
   ]
  },
  {
   "cell_type": "markdown",
   "metadata": {},
   "source": [
    "The `training` placeholder can be either `True` or `False` and tells the `batch_normalization` if it should use the current mini-batch's mean and standard deviation (during training) or the running averages that it keeps track of (during testing). The `momentum` parameter is for the exponential decay algorithm used in the running averages. You want high values (e.g. 0.999) for large datasets.  The batch norm is run just before each hidden layer's activation function, the ELU is applied manually after the batch norm layer.\n",
    "\n",
    "We can avoid repeating the above with the python `functools.partial()` function instead."
   ]
  },
  {
   "cell_type": "code",
   "execution_count": 19,
   "metadata": {},
   "outputs": [],
   "source": [
    "from functools import partial\n",
    "tf.reset_default_graph()\n",
    "# Placeholders for training data\n",
    "X = tf.placeholder(tf.float32, shape=(None,n_inputs),name='X')\n",
    "y = tf.placeholder(tf.int64, shape=(None),name='y')\n",
    "training = tf.placeholder_with_default(False, shape=(), name='training')\n",
    "\n",
    "my_batch_norm_layer = partial(tf.layers.batch_normalization,training=training,\n",
    "                             momentum=0.9)\n",
    "hidden1 = tf.layers.dense(X,n_hidden1,name='hidden1')\n",
    "bn1     = my_batch_norm_layer(hidden1)\n",
    "bn1_act = tf.nn.elu(bn1)\n",
    "\n",
    "hidden2 = tf.layers.dense(bn1_act,n_hidden2,name='hidden2')\n",
    "bn2     = my_batch_norm_layer(hidden2)\n",
    "bn2_act = tf.nn.elu(bn2)\n",
    "\n",
    "logits_before_bn = tf.layers.dense(bn2_act, n_outputs, name=\"outputs\")\n",
    "logits = my_batch_norm_layer(logits_before_bn)"
   ]
  },
  {
   "cell_type": "markdown",
   "metadata": {},
   "source": [
    "Now let's build a neural net for MNIST using ELU activation and Batch Normalization at each layer:"
   ]
  },
  {
   "cell_type": "code",
   "execution_count": 24,
   "metadata": {},
   "outputs": [
    {
     "name": "stdout",
     "output_type": "stream",
     "text": [
      "0  Train accuracy:  0.895 \t Test accuracy:  0.8784\n",
      "2  Train accuracy:  0.95 \t Test accuracy:  0.9157\n",
      "4  Train accuracy:  0.935 \t Test accuracy:  0.9334\n",
      "6  Train accuracy:  0.945 \t Test accuracy:  0.944\n",
      "8  Train accuracy:  0.935 \t Test accuracy:  0.9516\n",
      "10  Train accuracy:  0.975 \t Test accuracy:  0.9551\n",
      "12  Train accuracy:  0.96 \t Test accuracy:  0.9598\n",
      "14  Train accuracy:  0.98 \t Test accuracy:  0.9631\n",
      "16  Train accuracy:  0.97 \t Test accuracy:  0.9642\n",
      "18  Train accuracy:  0.975 \t Test accuracy:  0.9668\n"
     ]
    }
   ],
   "source": [
    "tf.reset_default_graph()\n",
    "# Placeholders for training data\n",
    "X = tf.placeholder(tf.float32, shape=(None,n_inputs),name='X')\n",
    "y = tf.placeholder(tf.int64, shape=(None),name='y')\n",
    "training = tf.placeholder_with_default(False, shape=(), name='training')\n",
    "momentum = 0.9\n",
    "\n",
    "# Neural Net\n",
    "with tf.name_scope('dnn'):\n",
    "    he_init = tf.contrib.layers.variance_scaling_initializer()\n",
    "    \n",
    "    my_batch_norm_layer = partial( tf.layers.batch_normalization,\n",
    "                                 training=training, momentum=momentum)\n",
    "    \n",
    "    my_dense_layer = partial(tf.layers.dense,kernel_initializer=he_init)\n",
    "    \n",
    "    hidden1 = my_dense_layer(X,n_hidden1,name='hidden1')\n",
    "    bn1  = tf.nn.elu(my_batch_norm_layer(hidden1))\n",
    "    hidden2 = my_dense_layer(bn1,n_hidden1,name='hidden2')\n",
    "    bn2  = tf.nn.elu(my_batch_norm_layer(hidden2))\n",
    "    logits_before_bn = my_dense_layer(bn2,n_outputs,name='outputs')\n",
    "    logits = my_batch_norm_layer(logits_before_bn)\n",
    "\n",
    "# Loss Function\n",
    "with tf.name_scope('loss'):\n",
    "    xentropy = tf.nn.sparse_softmax_cross_entropy_with_logits(labels=y,logits=logits)\n",
    "    loss  = tf.reduce_mean(xentropy,name='loss')\n",
    "    \n",
    "# Minimize Cost Function\n",
    "eta = 0.01\n",
    "with tf.name_scope('train'):\n",
    "    optimizer = tf.train.GradientDescentOptimizer(eta)\n",
    "    extra_update_ops = tf.get_collection(tf.GraphKeys.UPDATE_OPS)\n",
    "    with tf.control_dependencies(extra_update_ops):\n",
    "        training_op = optimizer.minimize(loss)\n",
    "\n",
    "# Evaluation\n",
    "with tf.name_scope('eval'):\n",
    "    correct = tf.nn.in_top_k(logits,y,1) \n",
    "    accuracy = tf.reduce_mean(tf.cast(correct,tf.float32))\n",
    "\n",
    "# Initialize all variables and create a SAver\n",
    "init = tf.global_variables_initializer()\n",
    "saver = tf.train.Saver()\n",
    "\n",
    "# Execution\n",
    "# Epochs and batch size\n",
    "n_epochs = 20\n",
    "batch_size= 200\n",
    "# Train the model\n",
    "with tf.Session() as sess:\n",
    "    init.run()\n",
    "    for epoch in range(n_epochs):\n",
    "        for iteration in range(mnist.train.num_examples//batch_size): #integer division\n",
    "            # Grab batch\n",
    "            X_batch,y_batch = mnist.train.next_batch(batch_size)\n",
    "            # Run optimization\n",
    "            sess.run(training_op,feed_dict={training:True, X:X_batch, y:y_batch})\n",
    "        # Accuracy\n",
    "        acc_train = accuracy.eval(feed_dict={X:X_batch,y:y_batch})\n",
    "        acc_test  = accuracy.eval(feed_dict={X:mnist.test.images,y:mnist.test.labels})\n",
    "        if epoch % 2 == 0:\n",
    "            print(epoch,' Train accuracy: ', acc_train, '\\t Test accuracy: ', acc_test)"
   ]
  },
  {
   "cell_type": "markdown",
   "metadata": {},
   "source": [
    "Since we only had 2 layers in this example, it's unlikely that Batch Normalization will have a very positive impact, but for deeper networks it can make a tremendous difference. "
   ]
  },
  {
   "cell_type": "markdown",
   "metadata": {},
   "source": [
    "Default DNN configuration:\n",
    "\n",
    "| Configuration | Choice |\n",
    "|---|---|\n",
    "| Initialization  |He Initialization | \n",
    "| Activation function       | ELU | \n",
    "| Normalization| Batch Normalization  | \n",
    "| Optimizer    | Adam |\n",
    "| Learning rate scheduler | None |\n"
   ]
  },
  {
   "cell_type": "markdown",
   "metadata": {},
   "source": [
    "## License"
   ]
  },
  {
   "cell_type": "markdown",
   "metadata": {},
   "source": [
    "The material in this notebook is made available under the [Creative Commons Attribution license](https://creativecommons.org/licenses/by-nc/4.0/)."
   ]
  }
 ],
 "metadata": {
  "kernelspec": {
   "display_name": "Python 3",
   "language": "python",
   "name": "python3"
  },
  "language_info": {
   "codemirror_mode": {
    "name": "ipython",
    "version": 3
   },
   "file_extension": ".py",
   "mimetype": "text/x-python",
   "name": "python",
   "nbconvert_exporter": "python",
   "pygments_lexer": "ipython3",
   "version": "3.6.3"
  }
 },
 "nbformat": 4,
 "nbformat_minor": 2
}
