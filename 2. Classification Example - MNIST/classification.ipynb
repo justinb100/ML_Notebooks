{
 "cells": [
  {
   "cell_type": "markdown",
   "metadata": {},
   "source": [
    "# Classification Example - MNIST<a class=\"anchor\" id=\"top\"></a>"
   ]
  },
  {
   "cell_type": "markdown",
   "metadata": {},
   "source": [
    "This notebook was written by following the textbook of  Aurélien Géron's *Hands-On Machine Learning with Scikit-Learn and TensorFlow*, along with associated datasets ([Link to Github Repo](https://github.com/ageron/handson-ml/)). The contents in this notebook are my notes from reading the textbook."
   ]
  },
  {
   "cell_type": "markdown",
   "metadata": {},
   "source": [
    "### Notebook by Justin Bandoro"
   ]
  },
  {
   "cell_type": "markdown",
   "metadata": {},
   "source": [
    "In this notebook, we will be working with the [MNIST](https://en.wikipedia.org/wiki/MNIST_database) (Modified National Institute of Standards and Technology) dataset. This is a dataset of 70,000 small images of digits handwritten by high school students and employees of the US Census Bureau. Each image is labeled with the digit it represents. It is a great dataset for classification.\n",
    "\n",
    "<img src='mnistdigits.gif'>"
   ]
  },
  {
   "cell_type": "markdown",
   "metadata": {},
   "source": [
    "1. [Framing the problem](#frameproblem)\n",
    "2. [Loading the data](#getdata)\n",
    "3. [Checking the data](#checkdata)\n",
    "4. [Explore the data](#explore)\n",
    "5. [Training and test sets](#traintest)\n",
    "6. [Visualize the training data](#visualize)\n",
    "7. [Feature engineering testing](#featureng)\n",
    "8. [Data preperation](#preperation)\n",
    "9. [Transformer pipelines](#pipelines)\n",
    "10. [Select and Train a Model](#firstmodels)\n",
    "11. [Model baselines](#baselines)\n",
    "12. [Fine-tuning hyperparameters](#gridsearch)\n",
    "13. [Analyzing the best estimators](#bestestimators)\n",
    "14. [Evaluate system on test data](#evaluatetesth)\n",
    "14. [Summary](#summary)"
   ]
  },
  {
   "cell_type": "markdown",
   "metadata": {},
   "source": [
    "## Framing the problem <a class=\"anchor\" id=\"frameproblem\"></a>"
   ]
  },
  {
   "cell_type": "markdown",
   "metadata": {},
   "source": [
    "[[back to top]](#top)\n",
    "\n",
    "The task at hand is to construct a model of housing prices in California using the California census data which contains features such as population, median income, median housing price, etc. for each district in California. The objective is to predict the median housing price in any district givien all other metrics\n",
    "\n",
    "We can define the problem in terms of how would a business expect to benefit from a model we construct:\n",
    "\n",
    "*\"The business you are working for will use model output as part of a larger project that will use output into another machine learning system to determine if it is worth investing in the area or not. District pricing from the model you construct will be a critical piece!\"*"
   ]
  },
  {
   "cell_type": "markdown",
   "metadata": {},
   "source": [
    "#### What is the current solution?"
   ]
  },
  {
   "cell_type": "markdown",
   "metadata": {},
   "source": [
    "Good idea to get reference performance, and how to solve problem. The business says that district housing prices are estimated by experts, where they gather information and use complex rules to get an estimate with a typical error of 15%."
   ]
  },
  {
   "cell_type": "markdown",
   "metadata": {},
   "source": [
    "#### What type of problem is it?"
   ]
  },
  {
   "cell_type": "markdown",
   "metadata": {},
   "source": [
    "This is a supervised learning problem since the dataset has known labels (median housing price). It is also a multivariate regression problem since we'll have to predict a value from multiple features/attributes. There is no incoming data to update our model, and the data is small enough to fit into memory so can use batch learning."
   ]
  },
  {
   "cell_type": "markdown",
   "metadata": {},
   "source": [
    "#### What performance metric should be used?"
   ]
  },
  {
   "cell_type": "markdown",
   "metadata": {},
   "source": [
    "The most common scoring metric for regression problems is the RMSE, which is standard deviation of errors the system makes in the predictions. E.g. an RMSE of `$`50,000 means 68`%` of the predictions fall within `$`50,000 of the actual value, and 95`%` within `$`100,000. RMSE is the cost function we want to minimize. Though if we find there are many outliers we may want to use the Mean Absolute Error"
   ]
  },
  {
   "cell_type": "markdown",
   "metadata": {},
   "source": [
    "## Loading the data <a class=\"anchor\" id=\"getdata\"></a>"
   ]
  },
  {
   "cell_type": "markdown",
   "metadata": {},
   "source": [
    "[[back to top]](#top)\n",
    "\n",
    "Load workspace and import the data."
   ]
  },
  {
   "cell_type": "code",
   "execution_count": 1,
   "metadata": {
    "format": "row",
    "scrolled": true
   },
   "outputs": [
    {
     "data": {
      "text/plain": [
       "dict_keys(['__header__', '__version__', '__globals__', 'mldata_descr_ordering', 'data', 'label'])"
      ]
     },
     "execution_count": 1,
     "metadata": {},
     "output_type": "execute_result"
    }
   ],
   "source": [
    "# Load modules\n",
    "import matplotlib\n",
    "%matplotlib inline\n",
    "import matplotlib.pylab as plt\n",
    "from IPython.display import display\n",
    "import numpy as np\n",
    "import pandas as pd\n",
    "import seaborn as sns\n",
    "import scipy.io as sio\n",
    "\n",
    "pd.set_option('precision',1) #easy to read output\n",
    "\n",
    "# Load data \n",
    "# Uncomment below if you want to fetch it from sklearn, it is provided in directory\n",
    "# as 'mnist-original.mat \n",
    "## from sklearn.datasets import fetch_mldata\n",
    "## mnist = fetch_mldata('MNIST original')\n",
    "import scipy.io as sio\n",
    "mnist = sio.loadmat('mnist-original.mat')\n",
    "mnist.keys()"
   ]
  },
  {
   "cell_type": "markdown",
   "metadata": {},
   "source": [
    "We can then get our dataset, `X`, and the labels associated with it, `y`."
   ]
  },
  {
   "cell_type": "code",
   "execution_count": 2,
   "metadata": {},
   "outputs": [
    {
     "name": "stdout",
     "output_type": "stream",
     "text": [
      "X shape: (70000, 784)\n",
      "y shape: (70000,)\n"
     ]
    }
   ],
   "source": [
    "# Load dataset and target labels\n",
    "X,y = mnist['data'],mnist['label']\n",
    "# reshape X so rows are instances\n",
    "X = X.T\n",
    "y = y.T[:,0]\n",
    "print('X shape:',X.shape)\n",
    "print('y shape:', y.shape)"
   ]
  },
  {
   "cell_type": "markdown",
   "metadata": {},
   "source": [
    "There are 70,000 images in the dataset, and each image has 784 features. Each feature corresponds to a pixel's intensity in a 28x28 pixel image. The intensity ranges from 0 (white) to 255 (black)."
   ]
  },
  {
   "cell_type": "markdown",
   "metadata": {},
   "source": [
    "## Visualize the data"
   ]
  },
  {
   "cell_type": "markdown",
   "metadata": {},
   "source": [
    "Let's load random 25 images, and put the corresponding label with it."
   ]
  },
  {
   "cell_type": "code",
   "execution_count": 3,
   "metadata": {},
   "outputs": [
    {
     "data": {
      "image/png": "[encoded data removed]",
      "text/plain": [
       "<matplotlib.figure.Figure at 0x1123e6160>"
      ]
     },
     "metadata": {},
     "output_type": "display_data"
    }
   ],
   "source": [
    "# Plot the a random set of 25 images from the dataset along with the labels\n",
    "fig,axes = plt.subplots(5,5,figsize=[10,10])\n",
    "randints = np.random.randint(0,70000, size=25)\n",
    "for ax,rand in zip(axes.ravel(),randints):\n",
    "    digit = X[rand,:]; label = y[rand]\n",
    "    digit_image = digit.reshape(28,28)\n",
    "    ax.imshow(digit_image,cmap=matplotlib.cm.binary,interpolation='nearest')\n",
    "    ax.axis('off')\n",
    "    ax.text(0.1, 0.9,label,transform = ax.transAxes,size=14,weight='bold')\n"
   ]
  },
  {
   "cell_type": "markdown",
   "metadata": {},
   "source": [
    "## Training and test splitting"
   ]
  },
  {
   "cell_type": "markdown",
   "metadata": {},
   "source": [
    "The MNIST dataset is already split into a training set with the first 60,000 images and a test set with the last 10,000 images. We'll also shuffle the training set since it is ordered by digits 0-9."
   ]
  },
  {
   "cell_type": "code",
   "execution_count": 5,
   "metadata": {},
   "outputs": [],
   "source": [
    "X_train,X_test,y_train,y_test = X[:60000],X[60000:],y[:60000],y[60000:]\n",
    "\n",
    "np.random.seed(42)\n",
    "shuffle_index = np.random.permutation(60000)\n",
    "X_train,y_train = X_train[shuffle_index], y_train[shuffle_index]\n",
    "\n",
    "# We'll also take a subset of training and testing for quick computing, they are already shuffled\n",
    "subset=0.1\n",
    "Nsubs = int( subset*len(y_train) )\n",
    "X_train_sub = X_train[:Nsubs]; y_train_sub=y_train[:Nsubs]"
   ]
  },
  {
   "cell_type": "markdown",
   "metadata": {},
   "source": [
    "Now we have training and test datasets with separate features/labels. We'll begin with training a binary classifier."
   ]
  },
  {
   "cell_type": "markdown",
   "metadata": {},
   "source": [
    "## Training a Binary Classifier"
   ]
  },
  {
   "cell_type": "markdown",
   "metadata": {},
   "source": [
    "We can start simple and train a model to predict whether a digit image is a specified digit or not. For example let's use the number 5. The classifier will distinguish between only two classes, 5 or not-5. \n",
    "\n",
    "First we have to create new labels that are True or False if the label is a 5. Then we will use a *Stochastic Gradient Descent* (SGD) classifier which has the advantage of handling very large datasets efficiently. Due to the fact that it deals with training instances independently, which also makes it suitable for online learning."
   ]
  },
  {
   "cell_type": "code",
   "execution_count": 6,
   "metadata": {},
   "outputs": [],
   "source": [
    "def plot_digit(data,ax=None):\n",
    "    if ax is None:\n",
    "        fig,ax = plt.subplots(1,figsize=[4,4])\n",
    "    image = data.reshape(28, 28)\n",
    "    ax.imshow(image, cmap = matplotlib.cm.binary,\n",
    "               interpolation=\"nearest\")\n",
    "    ax.axis(\"off\")\n",
    "    \n",
    "def plot_digits(instances, images_per_row=10,ax=None, **options):\n",
    "    if ax is None:\n",
    "        fig,ax=plt.subplots(1,figsize=[6,6])\n",
    "    size = 28\n",
    "    images_per_row = min(len(instances), images_per_row)\n",
    "    images = [instance.reshape(size,size) for instance in instances]\n",
    "    n_rows = (len(instances) - 1) // images_per_row + 1\n",
    "    row_images = []\n",
    "    n_empty = n_rows * images_per_row - len(instances)\n",
    "    images.append(np.zeros((size, size * n_empty)))\n",
    "    for row in range(n_rows):\n",
    "        rimages = images[row * images_per_row : (row + 1) * images_per_row]\n",
    "        row_images.append(np.concatenate(rimages, axis=1))\n",
    "    image = np.concatenate(row_images, axis=0)\n",
    "    ax.imshow(image, cmap = matplotlib.cm.binary, **options)\n",
    "    ax.axis(\"off\")"
   ]
  },
  {
   "cell_type": "code",
   "execution_count": 9,
   "metadata": {},
   "outputs": [
    {
     "data": {
      "text/plain": [
       "SGDClassifier(alpha=0.0001, average=False, class_weight=None, epsilon=0.1,\n",
       "       eta0=0.0, fit_intercept=True, l1_ratio=0.15,\n",
       "       learning_rate='optimal', loss='hinge', n_iter=5, n_jobs=1,\n",
       "       penalty='l2', power_t=0.5, random_state=42, shuffle=True, verbose=0,\n",
       "       warm_start=False)"
      ]
     },
     "execution_count": 9,
     "metadata": {},
     "output_type": "execute_result"
    }
   ],
   "source": [
    "from sklearn.linear_model import SGDClassifier\n",
    "\n",
    "# Change to binary classification \n",
    "y_train_5 = (y_train==5)\n",
    "y_test_5  = (y_test==5)\n",
    "\n",
    "# Create SGD classifier\n",
    "sgd_clf = SGDClassifier(random_state=42) #for reproducible results\n",
    "sgd_clf.fit(X_train,y_train_5)"
   ]
  },
  {
   "cell_type": "markdown",
   "metadata": {},
   "source": [
    "Let us quickly apply the classifier to a training instance and see what it does:"
   ]
  },
  {
   "cell_type": "code",
   "execution_count": 20,
   "metadata": {},
   "outputs": [
    {
     "data": {
      "text/plain": [
       "<matplotlib.text.Text at 0x11beec828>"
      ]
     },
     "execution_count": 20,
     "metadata": {},
     "output_type": "execute_result"
    },
    {
     "data": {
      "image/png": "[encoded data removed]",
      "text/plain": [
       "<matplotlib.figure.Figure at 0x11beea2b0>"
      ]
     },
     "metadata": {},
     "output_type": "display_data"
    }
   ],
   "source": [
    "# Grab an instance\n",
    "some_digit=X_train[855,:] \n",
    "# Predict using classifier\n",
    "label = sgd_clf.predict([some_digit])\n",
    "fig,ax=plt.subplots(1,1,figsize=[3,3])\n",
    "ax.imshow(some_digit.reshape(28,28),cmap=matplotlib.cm.binary,interpolation='nearest')\n",
    "ax.axis('off')\n",
    "ax.text(0.1, 0.9,label,transform = ax.transAxes,size=14,weight='bold')\n",
    "ax.text(0.9, 0.9,y_train[855],transform = ax.transAxes,size=14,weight='bold')"
   ]
  },
  {
   "cell_type": "markdown",
   "metadata": {},
   "source": [
    "Can see from the above that it correctly classified the digit as non-5. Now let's evaluate the performance."
   ]
  },
  {
   "cell_type": "markdown",
   "metadata": {},
   "source": [
    "## Classification Performance Measures"
   ]
  },
  {
   "cell_type": "markdown",
   "metadata": {},
   "source": [
    "Evaluating a classifier is not as straight-forward as evaluating a regressor. We'll touch on them in this section."
   ]
  },
  {
   "cell_type": "markdown",
   "metadata": {},
   "source": [
    "### Accuracy with Cross-Validation"
   ]
  },
  {
   "cell_type": "markdown",
   "metadata": {},
   "source": [
    "Here we will look at cross-validation reported accuracy implementing it ourselves. The `StratifiedKFold` tool allows stratified sampling to preserve the percentage of samples for each class so that each set/fold contains approximately the same percentage of samples of each target class as the complete set."
   ]
  },
  {
   "cell_type": "code",
   "execution_count": 11,
   "metadata": {},
   "outputs": [
    {
     "name": "stdout",
     "output_type": "stream",
     "text": [
      "Stratified KFold C-V accuracy scores: [0.95020000000000004, 0.96565000000000001, 0.96494999999999997]\n"
     ]
    }
   ],
   "source": [
    "from sklearn.model_selection import cross_val_score, StratifiedKFold\n",
    "from sklearn.base import clone\n",
    "from sklearn.metrics import accuracy_score\n",
    "\n",
    "kfolds = StratifiedKFold(n_splits=3, random_state=42)\n",
    "\n",
    "scores=[]\n",
    "for train_index,test_index in kfolds.split(X_train,y_train_5):\n",
    "    clone_clf = clone(sgd_clf)\n",
    "    X_train_folds = X_train[train_index]\n",
    "    y_train_folds = y_train_5[train_index]\n",
    "    X_test_folds  = X_train[test_index]\n",
    "    y_test_folds  = y_train_5[test_index]\n",
    "    # Train model and predict \n",
    "    clone_clf.fit(X_train_folds,y_train_folds)\n",
    "    y_pred = clone_clf.predict(X_test_folds)\n",
    "    # Accuracy\n",
    "    accuracy = accuracy_score(y_test_folds, y_pred)\n",
    "    scores.append(accuracy)\n",
    "    \n",
    "print('Stratified KFold C-V accuracy scores:',scores)"
   ]
  },
  {
   "cell_type": "markdown",
   "metadata": {},
   "source": [
    "Can see from the above that the accuracy scores look to be quite high over 95% success rate. Let's repeat the above but without stratifying the cross-validation folds:"
   ]
  },
  {
   "cell_type": "code",
   "execution_count": 12,
   "metadata": {},
   "outputs": [
    {
     "name": "stdout",
     "output_type": "stream",
     "text": [
      "KFold C-V accuracy scores: [ 0.9502   0.96565  0.96495]\n"
     ]
    }
   ],
   "source": [
    "# Kfold C-V\n",
    "scores = cross_val_score(sgd_clf,X_train,y_train_5,cv=3,scoring='accuracy')\n",
    "print(\"KFold C-V accuracy scores:\",scores)"
   ]
  },
  {
   "cell_type": "markdown",
   "metadata": {},
   "source": [
    "This looks to be good until we realize that there are 9 other digits besides 5 so it might not be that impressive that it is acheiving high accuracy. We can quickly make our own classifier that classifies all instances as non-5, and then look at it's accuracy:"
   ]
  },
  {
   "cell_type": "code",
   "execution_count": 33,
   "metadata": {},
   "outputs": [
    {
     "name": "stdout",
     "output_type": "stream",
     "text": [
      "Never classify 5 KFold C-V accuracy scores: [ 0.91195  0.90665  0.91035]\n"
     ]
    }
   ],
   "source": [
    "from sklearn.base import BaseEstimator\n",
    "\n",
    "class Never5Classifier(BaseEstimator):\n",
    "    def fit(self,X,y=None):\n",
    "        pass\n",
    "    def predict(self,X):\n",
    "        return np.zeros((len(X),1),dtype=bool)\n",
    "\n",
    "# C-V with classifier\n",
    "scores = cross_val_score(Never5Classifier(),X_train,y_train_5,cv=3,scoring='accuracy')\n",
    "print(\"Never classify 5 KFold C-V accuracy scores:\",scores)"
   ]
  },
  {
   "cell_type": "markdown",
   "metadata": {},
   "source": [
    "As we mentioned above it has over 90% accuracy because only 10% of the samples in dataset are 5s. Shows that accuracy is not the best metric when we're dealing with skewed datasets."
   ]
  },
  {
   "cell_type": "markdown",
   "metadata": {},
   "source": [
    "### Confusion Matrix"
   ]
  },
  {
   "cell_type": "markdown",
   "metadata": {},
   "source": [
    "A better way to evaluate the performance of a classifier is to examine the *confusion matrix* which shows the counts of correct and incorrect classification. It can reveal what is confusing (no pun intended) the classifier, for exmaple if it is confusing 5s with 8s or 3s you would be able to see this.\n",
    "\n",
    "For this exercise we will use the `cross_val_predict` function which does so by majority vote. First we will introduce a utility to visualize the confusion matrix."
   ]
  },
  {
   "cell_type": "code",
   "execution_count": 13,
   "metadata": {
    "collapsed": true
   },
   "outputs": [],
   "source": [
    "import itertools\n",
    "def plot_confusion_matrix(cm, classes, normalize=False,\n",
    "                          title='Confusion matrix', cmap=plt.cm.Blues,\n",
    "                         std=None,ax=None,fig=None,colorbar=True,text=True,\n",
    "                         errors=False):\n",
    "    \"\"\"\n",
    "    This function prints and plots the confusion matrix.\n",
    "    Normalization can be applied by setting `normalize=True`.\n",
    "    \"\"\"\n",
    "    if ax is None:\n",
    "        fig,ax = plt.subplots(1,figsize=[6,6])\n",
    "        \n",
    "\n",
    "    if normalize:\n",
    "        cmsum = cm.sum(axis=1)\n",
    "        cm = cm.astype('float') / cmsum[:, np.newaxis]\n",
    "#        std = std.astype('float')/cmsum[:,np.newaxis]\n",
    "        print(\"Normalized confusion matrix\")\n",
    "    else:\n",
    "        print('Confusion matrix, without normalization')\n",
    "\n",
    "#    print(cm)\n",
    "    if errors:\n",
    "        di = np.diag_indices(len(classes))\n",
    "        cm[di] = 0\n",
    "        \n",
    "    cs=ax.imshow(cm, interpolation='nearest', cmap=cmap)\n",
    "    ax.set_title(title)\n",
    "    if colorbar:\n",
    "        fig.colorbar(cs)\n",
    "    tick_marks = np.arange(len(classes))\n",
    "    ax.set_xticks(tick_marks);ax.set_xticklabels( classes, rotation=45)\n",
    "    ax.set_yticks(tick_marks);ax.set_yticklabels( classes, rotation=45)\n",
    "\n",
    "    thresh = cm.max() / 2.\n",
    "    for i, j in itertools.product(range(cm.shape[0]), range(cm.shape[1])):\n",
    "        if std is None and text:\n",
    "            ax.text(j, i, cm[i, j],\n",
    "                     horizontalalignment=\"center\",\n",
    "                     color=\"white\" if cm[i, j] > thresh else \"black\")\n",
    "        elif text:\n",
    "            ax.text(j, i, '{:0.2f} ({:0.2f})'.format(cm[i, j],std[i,j]),\n",
    "                     horizontalalignment=\"center\",\n",
    "                     color=\"white\" if cm[i, j] > thresh else \"black\")\n",
    "\n",
    "    fig.tight_layout()\n",
    "    ax.set_ylabel('True label')\n",
    "    ax.set_xlabel('Predicted label')"
   ]
  },
  {
   "cell_type": "code",
   "execution_count": 14,
   "metadata": {},
   "outputs": [
    {
     "name": "stdout",
     "output_type": "stream",
     "text": [
      "Confusion matrix, without normalization\n"
     ]
    },
    {
     "data": {
      "image/png": "[encoded data removed]",
      "text/plain": [
       "<matplotlib.figure.Figure at 0x10a5d3ef0>"
      ]
     },
     "metadata": {},
     "output_type": "display_data"
    }
   ],
   "source": [
    "from sklearn.model_selection import cross_val_predict\n",
    "from sklearn.metrics import confusion_matrix\n",
    "\n",
    "# Get predictions \n",
    "y_pred = cross_val_predict(sgd_clf,X_train,y_train_5,cv=3)\n",
    "confmat= confusion_matrix(y_train_5,y_pred)\n",
    "\n",
    "# Plot confusion matrix\n",
    "plot_confusion_matrix(confmat, ['non5','5'], normalize=False,title='Classify 5s')"
   ]
  },
  {
   "cell_type": "markdown",
   "metadata": {},
   "source": [
    "The first row considers non5 digits (negative class): 54,000 of them were correctly classified (**true negatives**) while just over 2,400 were incorrectly classified as 5 (**false positives**). The second row considers digits that were 5s (positive class): 930 of them were incorrectly classified as non5 (**false negatives**) and 4,500 were correctly classified as 5s (**true positives**). \n",
    "\n",
    "A perfect classifier would have only true positives and true negatives. Let's quickly see what the `Never5Classifier` looks like in the confusion matrix:"
   ]
  },
  {
   "cell_type": "code",
   "execution_count": 36,
   "metadata": {},
   "outputs": [
    {
     "name": "stdout",
     "output_type": "stream",
     "text": [
      "Confusion matrix, without normalization\n"
     ]
    },
    {
     "data": {
      "image/png": "[encoded data removed]",
      "text/plain": [
       "<matplotlib.figure.Figure at 0x103439908>"
      ]
     },
     "metadata": {},
     "output_type": "display_data"
    }
   ],
   "source": [
    "# Get predictions \n",
    "y_predn5 = cross_val_predict(Never5Classifier(),X_train,y_train_5,cv=3)\n",
    "confmat= confusion_matrix(y_train_5,y_predn5)\n",
    "# Plot confusion matrix\n",
    "plot_confusion_matrix(confmat, ['non5','5'], title='Never5Classifier',normalize=False)"
   ]
  },
  {
   "cell_type": "markdown",
   "metadata": {},
   "source": [
    "As we expected it perfectly classifies all non5s (**true negatives**) and incorrectly classifies all 5s (**false negatives**).\n",
    "\n",
    "The confusion matrix is great for visual representation but it would be nice to have what it represents in a performance metric, this is where **precision** and **recall** come in."
   ]
  },
  {
   "cell_type": "markdown",
   "metadata": {},
   "source": [
    "### Precision and Recall"
   ]
  },
  {
   "cell_type": "markdown",
   "metadata": {},
   "source": [
    "**Precision** is related to the accuracy of the positive predictions and is defined as:\n",
    "\n",
    "$precision = \\frac{TP}{TP+FP}$,\n",
    "\n",
    "where $TP$ is the number of true positives and $FP$ is the number of false positives.\n",
    "\n",
    "Alone precision is not that useful since we can imagine an instance where we have to make only 1 positive prediction and it is correct. This is where **recall** also known as *sensitivity* or the *true positive rate* (TPR) comes in. It is the ratio of positive instances that are correctly detected by the classifier:\n",
    "\n",
    "$recall = \\frac{TP}{TP+FN}$,\n",
    "\n",
    "where $FN$ is the number of false negatives. \n",
    "\n",
    "`sklearn` provides metrics for precision and recall built-in that we can use."
   ]
  },
  {
   "cell_type": "code",
   "execution_count": 15,
   "metadata": {},
   "outputs": [
    {
     "name": "stdout",
     "output_type": "stream",
     "text": [
      "Precision score: 0.768713502035\n",
      "Recall score: 0.801328168235\n"
     ]
    }
   ],
   "source": [
    "from sklearn.metrics import precision_score, recall_score\n",
    "\n",
    "prec_score = precision_score(y_train_5,y_pred)\n",
    "rec_score  = recall_score(y_train_5,y_pred)\n",
    "\n",
    "print('Precision score:',prec_score)\n",
    "print('Recall score:',rec_score)"
   ]
  },
  {
   "cell_type": "markdown",
   "metadata": {},
   "source": [
    "The above means that when our binary 5 classifier claims a digit is a 5, it is only correct 64% of the time, and it only detects 83% of all 5s.\n",
    "\n",
    "Now it would be nice if we could have both the precision and recall into a single metric instead of having to look at both of them. We can indeed combine them."
   ]
  },
  {
   "cell_type": "markdown",
   "metadata": {},
   "source": [
    "### F$_1$ Score"
   ]
  },
  {
   "cell_type": "markdown",
   "metadata": {},
   "source": [
    "The **$F_1$ score** is defined as the harmonic mean of the precision and recall. While a standard mean treats all values equally, a harmonic mean gives more weight to the lower values. Thus a classifier will only get a high $F_1$ score if both recall and precision are high. It is calculated by:\n",
    "\n",
    "$F_1 = \\frac{2}{\\frac{1}{precision} + \\frac{1}{recall} } = 2 \\times \\frac{precision \\times recall}{precision + recall} = \\frac{TP}{TP + \\frac{FN+FP}{2}} $\n",
    "\n",
    "Let's calculate this for our SGD classifier:"
   ]
  },
  {
   "cell_type": "code",
   "execution_count": 28,
   "metadata": {},
   "outputs": [
    {
     "name": "stdout",
     "output_type": "stream",
     "text": [
      "F1 score:  0.784682080925\n"
     ]
    }
   ],
   "source": [
    "from sklearn.metrics import f1_score\n",
    "\n",
    "f1score = f1_score(y_train_5,y_pred)\n",
    "print('F1 score: ',f1score)"
   ]
  },
  {
   "cell_type": "markdown",
   "metadata": {},
   "source": [
    "$F_1$ scores favor classifiers that have similar precision and recall. Though this may not be what your classification problem cares about. In some cases you may heavily weight precision or really care about recall.\n",
    "\n",
    "For instance suppose you trained a classifier that detects if the lyrics of a song are safe for children to listen to. You would rather have a classifier that rejects sometimes good songs (false negatives, low recall) and keeps only good ones (true positives, low false positives, high precision).\n",
    "\n",
    "On the other hand, if you train a classifier to detect presence of a bomb, it is OK if the classifier has only a low precision as long as it has near 100% recall, with close to zero false negatives. Sure it might get a few false alerts (false positives) but almost all true bombs will get caught.\n",
    "\n",
    "Unfortunately you can't have it both ways: increasing precision reduces recall and vice versa."
   ]
  },
  {
   "cell_type": "markdown",
   "metadata": {},
   "source": [
    "### Precision/Recall Tradeoff"
   ]
  },
  {
   "cell_type": "markdown",
   "metadata": {},
   "source": [
    "To understand what this tradeoff, we can understand how `SGDClassifier` performs classification. For each instance, a score based on a decision function is computed and if the score is greater than a threshold, it assigns the instance to the positive class, or else it assigns to the negative class. Consider if we had the following predictions where the digits to the left of the `|` are classified as negative (non5s) and those to the right are classified as positive (5s):\n",
    "\n",
    "                  8 4 2 1 5 2 5 | 5 5 6 5 5 5\n",
    "\n",
    "The precision is equal to $\\frac{5}{5+1}=84\\%$ and the recall is equal to $\\frac{5}{5+2} = 71\\%$ since out of the seven total 5s the classifier only found 5. If the threshold is increased to the right to remove the false positive (6), you end up with more false negatives so the recall will go down. Conversely, lowering the threshold (moving to the left) will decrease the precision. \n",
    "\n",
    "For the `SGDClassifier`, we have access to the `decision_function()` method which returns a score for each instance and you can make predictions on them manually since the classifier uses a threshold of 0."
   ]
  },
  {
   "cell_type": "code",
   "execution_count": 25,
   "metadata": {},
   "outputs": [
    {
     "name": "stdout",
     "output_type": "stream",
     "text": [
      "Actual label:  True\n",
      "Score:  -11176.4611205  prediction:  False\n",
      "sgd_clf prediction:  [False]\n"
     ]
    },
    {
     "data": {
      "image/png": "[encoded data removed]",
      "text/plain": [
       "<matplotlib.figure.Figure at 0x12392c898>"
      ]
     },
     "metadata": {},
     "output_type": "display_data"
    }
   ],
   "source": [
    "# Grab an instance we know is 5\n",
    "instance = np.where(y_train_5==True)[0][0]\n",
    "some_digit = X_train[instance,:] \n",
    "some_label = y_train_5[instance]\n",
    "\n",
    "#Draw what digit looks like\n",
    "fig,ax=plt.subplots(1,1,figsize=[3,3])\n",
    "ax.imshow(some_digit.reshape(28,28),cmap=matplotlib.cm.binary,interpolation='nearest')\n",
    "ax.axis('off')\n",
    "\n",
    "y_scores = sgd_clf.decision_function([some_digit])\n",
    "threshold = 0\n",
    "y_some_digit_pred = (y_scores>threshold)\n",
    "print('Actual label: ',some_label)\n",
    "print('Score: ',y_scores[0],' prediction: ',y_some_digit_pred[0])\n",
    "print('sgd_clf prediction: ',sgd_clf.predict([some_digit])[0])"
   ]
  },
  {
   "cell_type": "markdown",
   "metadata": {},
   "source": [
    "It returns the same as `predict()` since the threshold is equal to 0, and is misclassifying the 5 as non5. We can try to lower the threshold below -11,000 to see what happens:"
   ]
  },
  {
   "cell_type": "code",
   "execution_count": 27,
   "metadata": {},
   "outputs": [
    {
     "name": "stdout",
     "output_type": "stream",
     "text": [
      "Score:  -11176.4611205  prediction:  True\n"
     ]
    }
   ],
   "source": [
    "threshold = -11500.\n",
    "y_some_digit_pred = (y_scores>threshold)\n",
    "print('Score: ',y_scores[0],' prediction: ',y_some_digit_pred[0])"
   ]
  },
  {
   "cell_type": "markdown",
   "metadata": {},
   "source": [
    "Lowering the threshold decreases the precision but increases the recall (can get more 5s classified correctly). Conversely, raising the threshold decreases the recall, it misses the digit when the threshold is increase too high. We can quickly show this by using our threshold based predictions from the `decision_function()` and calculate the confusion matrix and associate precision/recall. "
   ]
  },
  {
   "cell_type": "code",
   "execution_count": 51,
   "metadata": {},
   "outputs": [
    {
     "name": "stdout",
     "output_type": "stream",
     "text": [
      "Threshold =  -12000\n",
      "Precision score: 0.624368255703\n",
      "Recall score: 0.843202361188\n",
      "Confusion matrix, without normalization\n",
      "Threshold =  0\n",
      "Precision score: 0.646838542417\n",
      "Recall score: 0.828444936359\n",
      "Confusion matrix, without normalization\n",
      "Threshold =  12000\n",
      "Precision score: 0.66909201152\n",
      "Recall score: 0.81424091496\n",
      "Confusion matrix, without normalization\n"
     ]
    },
    {
     "data": {
      "image/png": "[encoded data removed]",
      "text/plain": [
       "<matplotlib.figure.Figure at 0x11cdf3f98>"
      ]
     },
     "metadata": {},
     "output_type": "display_data"
    }
   ],
   "source": [
    "fig,axes = plt.subplots(1,3,figsize=[10,5])\n",
    "# Return the decision_function result for cross_val_predict\n",
    "y_scores  = cross_val_predict(sgd_clf,X_train,y_train_5,cv=3,method='decision_function')\n",
    "for ax,threshold in zip(axes.ravel(),[-12000,0,12000]):\n",
    "    y_preds   = (y_scores>threshold) \n",
    "    # Calculate precision and recall\n",
    "    print('Threshold = ',threshold)\n",
    "    print('Precision score:', precision_score(y_train_5,y_preds))\n",
    "    print('Recall score:', recall_score(y_train_5,y_preds))\n",
    "    # Show confusion matrix\n",
    "    confmat= confusion_matrix(y_train_5,y_preds)\n",
    "    plot_confusion_matrix(confmat, ['non5','5'], normalize=False,title='Threshold={}'.format(threshold),ax=ax,fig=fig,colorbar=False)"
   ]
  },
  {
   "cell_type": "markdown",
   "metadata": {},
   "source": [
    "We can confirm above that decreasing the threshold decreases the precision and increases the recall, while increasing the threshold increases the precision but decreases the recall. The middle confusion matrix with threshold of zero is the same one we had earlier using `cross_val_predict`. \n",
    "\n",
    "We can determine which threshold value is optimal by plotting the `precision_recall_curve` using the `decision_function` output we computed above for all the instances."
   ]
  },
  {
   "cell_type": "code",
   "execution_count": 53,
   "metadata": {},
   "outputs": [
    {
     "data": {
      "image/png": "[encoded data removed]",
      "text/plain": [
       "<matplotlib.figure.Figure at 0x11f3db320>"
      ]
     },
     "metadata": {},
     "output_type": "display_data"
    }
   ],
   "source": [
    "from sklearn.metrics import precision_recall_curve\n",
    "\n",
    "precisions, recalls, thresholds = precision_recall_curve(y_train_5,y_scores)\n",
    "\n",
    "#Function to plot the results\n",
    "def plot_precision_recall_vs_threshold(precisions,recalls,thresholds):\n",
    "    plt.figure(figsize=[8,4])\n",
    "    plt.plot(thresholds,precisions[:-1],'b--',label='Precision')\n",
    "    plt.plot(thresholds,recalls[:-1],'g-',label='Recall')\n",
    "    plt.xlabel(\"Threshold\")\n",
    "    plt.legend(loc='upper left');plt.ylim([0,1])\n",
    "    \n",
    "plot_precision_recall_vs_threshold(precisions,recalls,thresholds)"
   ]
  },
  {
   "cell_type": "markdown",
   "metadata": {},
   "source": [
    "From a figure like the one above you can select the precision/recall tradeoff needed for the problem at hand. Another way to plot is to show precision vs recall on a single plot."
   ]
  },
  {
   "cell_type": "code",
   "execution_count": 55,
   "metadata": {},
   "outputs": [
    {
     "data": {
      "text/plain": [
       "<matplotlib.text.Text at 0x132fc2588>"
      ]
     },
     "execution_count": 55,
     "metadata": {},
     "output_type": "execute_result"
    },
    {
     "data": {
      "image/png": "[encoded data removed]",
      "text/plain": [
       "<matplotlib.figure.Figure at 0x11f9cd470>"
      ]
     },
     "metadata": {},
     "output_type": "display_data"
    }
   ],
   "source": [
    "# Plot recall vs precision\n",
    "fig,ax=plt.subplots(1,figsize=[5,5])\n",
    "ax.plot(recalls,precisions,'b')\n",
    "ax.set_xlabel('Recall');ax.set_ylabel('Precision')"
   ]
  },
  {
   "cell_type": "markdown",
   "metadata": {},
   "source": [
    "Can see that precision falls off rapidly after a recall of around 85%. Imagine you wanted a precision of 90% for the project, from the previous two figures you need a threshold of around 70,000."
   ]
  },
  {
   "cell_type": "markdown",
   "metadata": {},
   "source": [
    "### The ROC Curve"
   ]
  },
  {
   "cell_type": "markdown",
   "metadata": {},
   "source": [
    "The *receiver operating characteristic* (ROC) curve is another tool used to analyze performance of binary classifiers. It is similar to the precision/recall curve above, but instead plots the *true positive rate* (recall) against the *false positive rate* (FPR). FPR is the ratio of negative instances that are incorrectly classified as positive, and is equal to 1 minus the *true negative rate* (TNR). \n",
    "\n",
    "$FPR = 1 - TNR = 1 -  \\frac{TN}{TN+FP}$\n",
    "\n",
    "The TNR is often called the *specificity* which is the ratio of negative instances that are correctly classified as negative.\n",
    "\n",
    "To plot the ROC curve you need to calculate the TPR and FPR for the various threshold values. `sklearn` has a built in function to do this called `roc_curve`."
   ]
  },
  {
   "cell_type": "code",
   "execution_count": 59,
   "metadata": {},
   "outputs": [
    {
     "data": {
      "image/png": "[encoded data removed]",
      "text/plain": [
       "<matplotlib.figure.Figure at 0x11fc7b550>"
      ]
     },
     "metadata": {},
     "output_type": "display_data"
    }
   ],
   "source": [
    "from sklearn.metrics import roc_curve\n",
    "\n",
    "fpr,tpr, thresholds = roc_curve(y_train_5,y_scores)\n",
    "# Plot ROC curve\n",
    "def plot_roc_curve(fpr,tpr,label=None,ax=None):\n",
    "    if ax is None:\n",
    "        fig,ax=plt.subplots(1,figsize=[6,5])\n",
    "    ax.plot(fpr,tpr,lw=2,label=label)\n",
    "    ax.plot([0,1],[0,1],'k--')\n",
    "    ax.set_xlim([0,1]);ax.set_ylim([0,1])\n",
    "    ax.set_xlabel('False positive rate');ax.set_ylabel('True positive rate')\n",
    "\n",
    "plot_roc_curve(fpr,tpr)"
   ]
  },
  {
   "cell_type": "markdown",
   "metadata": {},
   "source": [
    "We can see the tradeoff in the plot above, the higher the recall (TPR) the more false positives (FPR) the classifier produces. The dashed line signifies a purely random classifier; a good classifier stays away in the top-left corner.\n",
    "\n",
    "**When to use ROC vs P/R curves**: we can compare the ROC curve above to the P/R curve before. You should prefer the P/R curve when the positive class is rare (like our 5s in this example) or if you care more about the false positives than the false negatives. For example above, the ROC curve looks good but this is because there are few positives (5s) compared to negatives (non-5s). \n",
    "\n",
    "One way to compare classifiers is to measure the *area under the curve* (AUC). A perfect classifier will have a ROC AUC equal to unity, whereas a purely random classifier will have a ROC AUC equal to 0.5. `sklearn` has a function to compute the ROC AUC:"
   ]
  },
  {
   "cell_type": "code",
   "execution_count": 60,
   "metadata": {},
   "outputs": [
    {
     "name": "stdout",
     "output_type": "stream",
     "text": [
      "ROC AUC score:  0.958596097047\n"
     ]
    }
   ],
   "source": [
    "from sklearn.metrics import roc_auc_score\n",
    "print('ROC AUC score: ', roc_auc_score(y_train_5,y_scores))"
   ]
  },
  {
   "cell_type": "markdown",
   "metadata": {},
   "source": [
    "Next let's train a `RandomForestClassifier` and compare the reported ROC and ROC AUC score to our `SGDClassifier`. As we saw earlier for the `SGDClassifier` we could get the decision functions, but `RandomForestClassifier` does not have this method, instead we will use the `predict_proba()` method. All `sklearn` classifiers either have one or the other.\n",
    "\n",
    "The `predict_proba()` returns an array containing a row per instance and a column per class, each containing the probability that a given instance belongs to the given class (i.e. 70% chance the digit is a 5)."
   ]
  },
  {
   "cell_type": "code",
   "execution_count": 67,
   "metadata": {},
   "outputs": [
    {
     "name": "stdout",
     "output_type": "stream",
     "text": [
      "Random Forest ROC AUC score: 0.992496776292\n",
      "Random Forest Precision score: 0.985906188064\n",
      "Random Forest Recall score: 0.825862387013\n"
     ]
    },
    {
     "data": {
      "image/png": "[encoded data removed]",
      "text/plain": [
       "<matplotlib.figure.Figure at 0x11f57fb38>"
      ]
     },
     "metadata": {},
     "output_type": "display_data"
    }
   ],
   "source": [
    "#Random Forest Classifier\n",
    "from sklearn.ensemble import RandomForestClassifier\n",
    "\n",
    "rf_clf      = RandomForestClassifier(random_state=42)\n",
    "y_probas_rf = cross_val_predict(rf_clf,X_train,y_train_5,cv=3,method='predict_proba')\n",
    "y_preds_rf  = cross_val_predict(rf_clf,X_train,y_train_5,cv=3)\n",
    "\n",
    "# To plot ROC need scores not probabilities, so we can use the positive\n",
    "# class probability for the score\n",
    "y_scores_rf = y_probas_rf[:,1] # probability of positive class\n",
    "\n",
    "# Calculate ROC\n",
    "fpr_rf,tpr_rf,thresholds_rf = roc_curve(y_train_5,y_scores_rf)\n",
    "\n",
    "# Plot compared to SGD\n",
    "fig,ax = plt.subplots(1,figsize=[6,5])\n",
    "plot_roc_curve(fpr,tpr,label='SGD',ax=ax)\n",
    "plot_roc_curve(fpr_rf,tpr_rf,label='Random Forest',ax=ax)\n",
    "ax.legend(loc='lower right')\n",
    "\n",
    "# Calculate ROC AUC score \n",
    "print('Random Forest ROC AUC score:', roc_auc_score(y_train_5,y_scores_rf))\n",
    "# Precision and recall scores\n",
    "print('Random Forest Precision score:', precision_score(y_train_5,y_preds_rf))\n",
    "print('Random Forest Recall score:', recall_score(y_train_5,y_preds_rf))"
   ]
  },
  {
   "cell_type": "markdown",
   "metadata": {},
   "source": [
    "Can see that the precision is much higher for the Random Forest vs the SGD classifier, and the ROC curve looks better being closer to the top left."
   ]
  },
  {
   "cell_type": "markdown",
   "metadata": {},
   "source": [
    "## Multiclass Classification "
   ]
  },
  {
   "cell_type": "markdown",
   "metadata": {},
   "source": [
    "Multiclass classifiers can distinguish between more than two classes. Some algorithms can deal with multiple classes directly such as Random Forest or naive Bayes. Others are strictly binary classifiers, like Support Vector Machine or Linear classifiers, but there are strategies to perform multiclass classification using multiple binary classifiers.\n",
    "\n",
    "For example we can take our previous binary classifier but repeat it so that each digit from 0 to 9 has a binary classifier. Then when we want to classify an image we can take the decision score from each classifier and select the class whose classifier has the highest score. This is called the **one-vs.-the-rest**. Another strategy is to train binary classifiers to distinguish between pair of digits: i.e. one to distinguish between 0s and 1s and another to distinguish between 0s and 2s. This is called **one-vs.-one** strategy. If there are $N$ classes you have to train $N \\times (N-1)/2$ classifiers. Although it is more classifiers, each classifier only has to be trained on part of the training set that contains the two classes.\n",
    "\n",
    "Support Vector Machine classifiers scale poorly with size of the training set, so the one-vs-one approach is preferred since it is faster to train many classifiers on small training sets than a few on a large training set. `sklearn` detects when you try to use binary classification on multiclass problems and automatically runs one-vs.-all (except for SVM).\n",
    "\n",
    "We will test out the `SGDClassifier` first."
   ]
  },
  {
   "cell_type": "code",
   "execution_count": 69,
   "metadata": {},
   "outputs": [
    {
     "data": {
      "text/plain": [
       "<matplotlib.text.Text at 0x11fc74c50>"
      ]
     },
     "execution_count": 69,
     "metadata": {},
     "output_type": "execute_result"
    },
    {
     "data": {
      "image/png": "[encoded data removed]",
      "text/plain": [
       "<matplotlib.figure.Figure at 0x11ff80860>"
      ]
     },
     "metadata": {},
     "output_type": "display_data"
    }
   ],
   "source": [
    "# Train classifier on all class labels\n",
    "sgd_clf.fit(X_train,y_train)\n",
    "# Grab an instance to test and plot results\n",
    "some_digit=X_train[3453,:] \n",
    "# Predict using classifier\n",
    "label = sgd_clf.predict([some_digit])\n",
    "fig,ax=plt.subplots(1,1,figsize=[3,3])\n",
    "ax.imshow(some_digit.reshape(28,28),cmap=matplotlib.cm.binary,interpolation='nearest')\n",
    "ax.axis('off')\n",
    "ax.text(0.1, 0.9,'Pred: {}'.format(label[0]),transform = ax.transAxes,size=14,weight='bold')\n",
    "ax.text(0.9, 0.9,'True: {}'.format(y_train[3453]),transform = ax.transAxes,size=14,weight='bold')"
   ]
  },
  {
   "cell_type": "markdown",
   "metadata": {},
   "source": [
    "We can see that the classifier correctly predicted the digit. Since behind the scenes, `sklearn` creates 10 binary classifiers and compared their decision scores for the image instance and selected the highest one. We can look at the decision function:"
   ]
  },
  {
   "cell_type": "code",
   "execution_count": 74,
   "metadata": {},
   "outputs": [
    {
     "data": {
      "text/html": [
       "<div>\n",
       "<table border=\"1\" class=\"dataframe\">\n",
       "  <thead>\n",
       "    <tr style=\"text-align: right;\">\n",
       "      <th></th>\n",
       "      <th>0</th>\n",
       "    </tr>\n",
       "  </thead>\n",
       "  <tbody>\n",
       "    <tr>\n",
       "      <th>9.0</th>\n",
       "      <td>104980.3</td>\n",
       "    </tr>\n",
       "    <tr>\n",
       "      <th>3.0</th>\n",
       "      <td>50767.2</td>\n",
       "    </tr>\n",
       "    <tr>\n",
       "      <th>7.0</th>\n",
       "      <td>-23158.2</td>\n",
       "    </tr>\n",
       "    <tr>\n",
       "      <th>1.0</th>\n",
       "      <td>-57813.7</td>\n",
       "    </tr>\n",
       "    <tr>\n",
       "      <th>4.0</th>\n",
       "      <td>-203706.6</td>\n",
       "    </tr>\n",
       "    <tr>\n",
       "      <th>5.0</th>\n",
       "      <td>-281979.8</td>\n",
       "    </tr>\n",
       "    <tr>\n",
       "      <th>8.0</th>\n",
       "      <td>-284254.9</td>\n",
       "    </tr>\n",
       "    <tr>\n",
       "      <th>2.0</th>\n",
       "      <td>-327401.6</td>\n",
       "    </tr>\n",
       "    <tr>\n",
       "      <th>6.0</th>\n",
       "      <td>-461772.3</td>\n",
       "    </tr>\n",
       "    <tr>\n",
       "      <th>0.0</th>\n",
       "      <td>-571697.3</td>\n",
       "    </tr>\n",
       "  </tbody>\n",
       "</table>\n",
       "</div>"
      ],
      "text/plain": [
       "            0\n",
       "9.0  104980.3\n",
       "3.0   50767.2\n",
       "7.0  -23158.2\n",
       "1.0  -57813.7\n",
       "4.0 -203706.6\n",
       "5.0 -281979.8\n",
       "8.0 -284254.9\n",
       "2.0 -327401.6\n",
       "6.0 -461772.3\n",
       "0.0 -571697.3"
      ]
     },
     "execution_count": 74,
     "metadata": {},
     "output_type": "execute_result"
    }
   ],
   "source": [
    "#Output decision function for instance\n",
    "out = sgd_clf.decision_function([some_digit])\n",
    "# Create pandas series ranking the scores\n",
    "scores = pd.DataFrame(out.T,index=sgd_clf.classes_)\n",
    "scores.sort_values(0,ascending=False)"
   ]
  },
  {
   "cell_type": "markdown",
   "metadata": {},
   "source": [
    "We can see that the digit that was correctly classified (9) has the highest decision score of all 10 digits.\n",
    "\n",
    "For the one-vs.-one strategy we can force `sklearn` to perform it by using the `OneVsRestClassifier`:"
   ]
  },
  {
   "cell_type": "code",
   "execution_count": 78,
   "metadata": {},
   "outputs": [
    {
     "name": "stdout",
     "output_type": "stream",
     "text": [
      "Number of estimators in OvO:  45\n"
     ]
    },
    {
     "data": {
      "text/plain": [
       "<matplotlib.text.Text at 0x11f938be0>"
      ]
     },
     "execution_count": 78,
     "metadata": {},
     "output_type": "execute_result"
    },
    {
     "data": {
      "image/png": "[encoded data removed]",
      "text/plain": [
       "<matplotlib.figure.Figure at 0x13342c8d0>"
      ]
     },
     "metadata": {},
     "output_type": "display_data"
    }
   ],
   "source": [
    "from sklearn.multiclass import OneVsOneClassifier\n",
    "\n",
    "#Train one-vs-one classifier\n",
    "ovo_clf = OneVsOneClassifier(SGDClassifier(random_state=42))\n",
    "ovo_clf.fit(X_train,y_train)\n",
    "#Output number of estimators\n",
    "print('Number of estimators in OvO: ',len(ovo_clf.estimators_))\n",
    "# Predict using classifier\n",
    "label = ovo_clf.predict([some_digit])\n",
    "fig,ax=plt.subplots(1,1,figsize=[3,3])\n",
    "ax.imshow(some_digit.reshape(28,28),cmap=matplotlib.cm.binary,interpolation='nearest')\n",
    "ax.axis('off')\n",
    "ax.text(0.1, 0.9,'Pred: {}'.format(label[0]),transform = ax.transAxes,size=14,weight='bold')\n",
    "ax.text(0.9, 0.9,'True: {}'.format(y_train[3453]),transform = ax.transAxes,size=14,weight='bold')"
   ]
  },
  {
   "cell_type": "markdown",
   "metadata": {},
   "source": [
    "We can see that is also predicted correctly our test instance.\n",
    "\n",
    "Next we'll train a `RandomForestClasifier`:"
   ]
  },
  {
   "cell_type": "code",
   "execution_count": 79,
   "metadata": {},
   "outputs": [
    {
     "data": {
      "text/plain": [
       "<matplotlib.text.Text at 0x11f50b710>"
      ]
     },
     "execution_count": 79,
     "metadata": {},
     "output_type": "execute_result"
    },
    {
     "data": {
      "image/png": "[encoded data removed]",
      "text/plain": [
       "<matplotlib.figure.Figure at 0x11fa204e0>"
      ]
     },
     "metadata": {},
     "output_type": "display_data"
    }
   ],
   "source": [
    "# Train random forest classifier\n",
    "rf_clf.fit(X_train,y_train)\n",
    "# Predict using classifier\n",
    "label = rf_clf.predict([some_digit])\n",
    "fig,ax=plt.subplots(1,1,figsize=[3,3])\n",
    "ax.imshow(some_digit.reshape(28,28),cmap=matplotlib.cm.binary,interpolation='nearest')\n",
    "ax.axis('off')\n",
    "ax.text(0.1, 0.9,'Pred: {}'.format(label[0]),transform = ax.transAxes,size=14,weight='bold')\n",
    "ax.text(0.9, 0.9,'True: {}'.format(y_train[3453]),transform = ax.transAxes,size=14,weight='bold')"
   ]
  },
  {
   "cell_type": "markdown",
   "metadata": {},
   "source": [
    "Furthermore since `RandomForestClassifier` does not use OvA or OvO strategies, we can get the probability through `predict_proba()` that the classifier assigned to each class for each instance:"
   ]
  },
  {
   "cell_type": "code",
   "execution_count": 80,
   "metadata": {},
   "outputs": [
    {
     "data": {
      "text/html": [
       "<div>\n",
       "<table border=\"1\" class=\"dataframe\">\n",
       "  <thead>\n",
       "    <tr style=\"text-align: right;\">\n",
       "      <th></th>\n",
       "      <th>0</th>\n",
       "    </tr>\n",
       "  </thead>\n",
       "  <tbody>\n",
       "    <tr>\n",
       "      <th>9.0</th>\n",
       "      <td>0.8</td>\n",
       "    </tr>\n",
       "    <tr>\n",
       "      <th>7.0</th>\n",
       "      <td>0.2</td>\n",
       "    </tr>\n",
       "    <tr>\n",
       "      <th>0.0</th>\n",
       "      <td>0.0</td>\n",
       "    </tr>\n",
       "    <tr>\n",
       "      <th>1.0</th>\n",
       "      <td>0.0</td>\n",
       "    </tr>\n",
       "    <tr>\n",
       "      <th>2.0</th>\n",
       "      <td>0.0</td>\n",
       "    </tr>\n",
       "    <tr>\n",
       "      <th>3.0</th>\n",
       "      <td>0.0</td>\n",
       "    </tr>\n",
       "    <tr>\n",
       "      <th>4.0</th>\n",
       "      <td>0.0</td>\n",
       "    </tr>\n",
       "    <tr>\n",
       "      <th>5.0</th>\n",
       "      <td>0.0</td>\n",
       "    </tr>\n",
       "    <tr>\n",
       "      <th>6.0</th>\n",
       "      <td>0.0</td>\n",
       "    </tr>\n",
       "    <tr>\n",
       "      <th>8.0</th>\n",
       "      <td>0.0</td>\n",
       "    </tr>\n",
       "  </tbody>\n",
       "</table>\n",
       "</div>"
      ],
      "text/plain": [
       "       0\n",
       "9.0  0.8\n",
       "7.0  0.2\n",
       "0.0  0.0\n",
       "1.0  0.0\n",
       "2.0  0.0\n",
       "3.0  0.0\n",
       "4.0  0.0\n",
       "5.0  0.0\n",
       "6.0  0.0\n",
       "8.0  0.0"
      ]
     },
     "execution_count": 80,
     "metadata": {},
     "output_type": "execute_result"
    }
   ],
   "source": [
    "#Output decision function for instance\n",
    "out = rf_clf.predict_proba([some_digit])\n",
    "# Create pandas series ranking the scores\n",
    "scores = pd.DataFrame(out.T,index=rf_clf.classes_)\n",
    "scores.sort_values(0,ascending=False)"
   ]
  },
  {
   "cell_type": "markdown",
   "metadata": {},
   "source": [
    "The Random Forest classifier estimated that with 80% probability the digit is a 9 and 20% is a 7.\n",
    "\n",
    "We can then evaluate the classifiers using cross-validation, and it is the same as we did before:"
   ]
  },
  {
   "cell_type": "code",
   "execution_count": 82,
   "metadata": {},
   "outputs": [
    {
     "name": "stdout",
     "output_type": "stream",
     "text": [
      "3fold C-V accuracy using SGD:  [ 0.88232354  0.83924196  0.82682402]\n",
      "3fold C-V accuracy using RF :  [ 0.94111178  0.94154708  0.94429164]\n"
     ]
    }
   ],
   "source": [
    "#C-V of classifiers\n",
    "print('3fold C-V accuracy using SGD: ', cross_val_score(sgd_clf,X_train,y_train,cv=3,scoring='accuracy'))\n",
    "print('3fold C-V accuracy using RF : ', cross_val_score(rf_clf, X_train,y_train,cv=3,scoring='accuracy'))"
   ]
  },
  {
   "cell_type": "markdown",
   "metadata": {},
   "source": [
    "SGD and RF get 84 and 94% accuracy on all test folds respectively. If we were to use a random classifier we would only achieve 10% accuracy. We can perform some data-preprocessing and hyperparameter tuning to improve the accuracy. For example, scaling is not important in Random Forests but for SGD it can make a difference.\n",
    "\n",
    "Before we try to tune the complex Random Forest classifier, which will be more computing resources depending on the number of estimators we use, let's try to do the best we can with the SGD Classifier. Since it is a linear model, we can scale the input first."
   ]
  },
  {
   "cell_type": "code",
   "execution_count": 18,
   "metadata": {},
   "outputs": [
    {
     "ename": "NameError",
     "evalue": "name 'sgd_pipeline' is not defined",
     "output_type": "error",
     "traceback": [
      "\u001b[0;31m---------------------------------------------------------------------------\u001b[0m",
      "\u001b[0;31mNameError\u001b[0m                                 Traceback (most recent call last)",
      "\u001b[0;32m<ipython-input-18-e739a0ca06c6>\u001b[0m in \u001b[0;36m<module>\u001b[0;34m()\u001b[0m\n\u001b[1;32m      9\u001b[0m \u001b[0;34m\u001b[0m\u001b[0m\n\u001b[1;32m     10\u001b[0m \u001b[0;31m# C-V\u001b[0m\u001b[0;34m\u001b[0m\u001b[0;34m\u001b[0m\u001b[0m\n\u001b[0;32m---> 11\u001b[0;31m \u001b[0mprint\u001b[0m\u001b[0;34m(\u001b[0m\u001b[0;34m'3fold C-V accuracy using SGD with scaled inputs: '\u001b[0m\u001b[0;34m,\u001b[0m \u001b[0mcross_val_score\u001b[0m\u001b[0;34m(\u001b[0m\u001b[0msgd_pipeline\u001b[0m\u001b[0;34m,\u001b[0m\u001b[0mX_train\u001b[0m\u001b[0;34m,\u001b[0m\u001b[0my_train\u001b[0m\u001b[0;34m,\u001b[0m\u001b[0mcv\u001b[0m\u001b[0;34m=\u001b[0m\u001b[0;36m3\u001b[0m\u001b[0;34m,\u001b[0m\u001b[0mscoring\u001b[0m\u001b[0;34m=\u001b[0m\u001b[0;34m'accuracy'\u001b[0m\u001b[0;34m)\u001b[0m\u001b[0;34m)\u001b[0m\u001b[0;34m\u001b[0m\u001b[0m\n\u001b[0m",
      "\u001b[0;31mNameError\u001b[0m: name 'sgd_pipeline' is not defined"
     ]
    }
   ],
   "source": [
    "from sklearn.preprocessing import StandardScaler, MinMaxScaler\n",
    "from sklearn.pipeline import Pipeline\n",
    "\n",
    "scaler = StandardScaler()\n",
    "\n",
    "sgd_pipeline = Pipeline([ ('scaler', scaler ),\n",
    "                          ('clf', SGDClassifier(random_state=42) )\n",
    "                        ])\n",
    "\n",
    "# C-V \n",
    "print('3fold C-V accuracy using SGD with scaled inputs: ', cross_val_score(sgd_pipeline,X_train,y_train,cv=3,scoring='accuracy'))"
   ]
  },
  {
   "cell_type": "code",
   "execution_count": null,
   "metadata": {
    "collapsed": true
   },
   "outputs": [],
   "source": []
  },
  {
   "cell_type": "markdown",
   "metadata": {},
   "source": [
    "### Tuning with Random Forests"
   ]
  },
  {
   "cell_type": "code",
   "execution_count": 91,
   "metadata": {},
   "outputs": [
    {
     "name": "stdout",
     "output_type": "stream",
     "text": [
      "Model with rank: 1\n",
      "Mean validation score: -0.967 (std: 0.001)\n",
      "Parameters: {'max_depth': 21, 'max_features': 'sqrt', 'n_estimators': 294}\n",
      "\n",
      "Model with rank: 2\n",
      "Mean validation score: -0.965 (std: 0.001)\n",
      "Parameters: {'max_depth': 27, 'max_features': 'log2', 'n_estimators': 283}\n",
      "\n",
      "Model with rank: 3\n",
      "Mean validation score: -0.964 (std: 0.001)\n",
      "Parameters: {'max_depth': 24, 'max_features': 'log2', 'n_estimators': 166}\n",
      "\n"
     ]
    },
    {
     "ename": "AttributeError",
     "evalue": "'RandomForestClassifier' object has no attribute 'steps'",
     "output_type": "error",
     "traceback": [
      "\u001b[0;31m---------------------------------------------------------------------------\u001b[0m",
      "\u001b[0;31mAttributeError\u001b[0m                            Traceback (most recent call last)",
      "\u001b[0;32m<ipython-input-91-d7af0ac00973>\u001b[0m in \u001b[0;36m<module>\u001b[0;34m()\u001b[0m\n\u001b[1;32m     26\u001b[0m \u001b[0mreport\u001b[0m\u001b[0;34m(\u001b[0m\u001b[0mrf_results\u001b[0m\u001b[0;34m)\u001b[0m\u001b[0;34m\u001b[0m\u001b[0m\n\u001b[1;32m     27\u001b[0m \u001b[0;31m#Show best random forest estimator\u001b[0m\u001b[0;34m\u001b[0m\u001b[0;34m\u001b[0m\u001b[0m\n\u001b[0;32m---> 28\u001b[0;31m \u001b[0mgs_rf\u001b[0m\u001b[0;34m.\u001b[0m\u001b[0mbest_estimator_\u001b[0m\u001b[0;34m.\u001b[0m\u001b[0msteps\u001b[0m\u001b[0;34m[\u001b[0m\u001b[0;34m-\u001b[0m\u001b[0;36m1\u001b[0m\u001b[0;34m]\u001b[0m\u001b[0;34m\u001b[0m\u001b[0m\n\u001b[0m",
      "\u001b[0;31mAttributeError\u001b[0m: 'RandomForestClassifier' object has no attribute 'steps'"
     ]
    }
   ],
   "source": [
    "from sklearn.model_selection import RandomizedSearchCV\n",
    "from scipy.stats import randint\n",
    "\n",
    "def report(results, n_top=3,rmse=False):\n",
    "    # if RMSE is true will take square root\n",
    "    exp=0.5 if rmse else 1.0\n",
    "    for i in range(1, n_top + 1):\n",
    "        candidates = np.flatnonzero(results['rank_test_score'] == i)\n",
    "        for candidate in candidates:\n",
    "            print(\"Model with rank: {0}\".format(i))\n",
    "            print(\"Mean validation score: {0:.3f} (std: {1:.3f})\".format(\n",
    "                  (results['mean_test_score'][candidate])**exp,\n",
    "                  (results['std_test_score'][candidate])**exp  ))\n",
    "            print(\"Parameters: {0}\".format(results['params'][candidate]))\n",
    "            print(\"\")\n",
    "\n",
    "\n",
    "param_grid = {'n_estimators': randint(10,300),\n",
    "              'max_depth'   : randint(1,30),\n",
    "              'max_features': ['log2','sqrt',None] \n",
    "             }      \n",
    "gs_rf = RandomizedSearchCV(RandomForestClassifier(random_state=42),param_grid,n_iter=20,cv=3,scoring='accuracy',n_jobs=-1)\n",
    "gs_rf.fit(X_train,y_train)\n",
    "#Print scores\n",
    "rf_results =  gs_rf.cv_results_\n",
    "report(rf_results)"
   ]
  },
  {
   "cell_type": "markdown",
   "metadata": {},
   "source": [
    "So with the tuning above we were able to find the hyperparameters for the `RandomForestClassifier` that increase the accuracy to around 97%. Let's check to see what the accuracy is on the whole training set. While we shouldn't look at test data performance as that might influence model selection and tuning, we'll evaluate to see how high an accuracy we get on unseen data."
   ]
  },
  {
   "cell_type": "code",
   "execution_count": 95,
   "metadata": {},
   "outputs": [
    {
     "name": "stdout",
     "output_type": "stream",
     "text": [
      "Tuned RF accuracy score for training set:  0.999516666667\n",
      "Tuned RF accuracy score for test set:  0.9704\n"
     ]
    }
   ],
   "source": [
    "y_rf_tuned_pred = gs_rf.predict(X_train)\n",
    "print('Tuned RF accuracy score for training set: ',accuracy_score(y_train,y_rf_tuned_pred))\n",
    "y_rf_tuned_pred = gs_rf.predict(X_test)\n",
    "print('Tuned RF accuracy score for test set: ',accuracy_score(y_test,y_rf_tuned_pred))"
   ]
  },
  {
   "cell_type": "markdown",
   "metadata": {},
   "source": [
    "With hyperparameter tuning we were able to find a Random Forest Classifier that achieves over 97% on the test data.\n",
    "\n",
    "Let's save the grid search best estimator so we don't have to go through the process over and over."
   ]
  },
  {
   "cell_type": "code",
   "execution_count": 96,
   "metadata": {},
   "outputs": [
    {
     "data": {
      "text/plain": [
       "['rf_tuned_clf.pkl']"
      ]
     },
     "execution_count": 96,
     "metadata": {},
     "output_type": "execute_result"
    }
   ],
   "source": [
    "from sklearn.externals import joblib\n",
    "rf_tuned_clf = gs_rf.best_estimator_\n",
    "joblib.dump(rf_tuned_clf, 'rf_tuned_clf.pkl') "
   ]
  },
  {
   "cell_type": "code",
   "execution_count": 20,
   "metadata": {
    "collapsed": true
   },
   "outputs": [],
   "source": [
    "from sklearn.externals import joblib\n",
    "rf_tuned_clf =joblib.load('rf_tuned_clf.pkl') "
   ]
  },
  {
   "cell_type": "markdown",
   "metadata": {},
   "source": [
    "### K-Nearest Neighbor Classifier"
   ]
  },
  {
   "cell_type": "markdown",
   "metadata": {},
   "source": [
    "Let's also try this classifier on the data to see if it can get a better"
   ]
  },
  {
   "cell_type": "code",
   "execution_count": null,
   "metadata": {},
   "outputs": [],
   "source": [
    "from sklearn.neighbors import KNeighborsClassifier\n",
    "\n",
    "knn_clf = KNeighborsClassifier(n_neighbors=4,weights='distance')\n",
    "knn_clf.fit(X_train,y_train)\n",
    "\n",
    "y_knn_pred = knn_clf.predict(X_train)\n",
    "print('KNN accuracy score for training set: ',accuracy_score(y_train,y_knn_pred))\n",
    "y_knn_tuned_pred = knn_clf.predict(X_test)\n",
    "print('KNN accuracy score for test set: ',accuracy_score(y_test,y_knn_pred))"
   ]
  },
  {
   "cell_type": "markdown",
   "metadata": {},
   "source": [
    "## Error Analysis"
   ]
  },
  {
   "cell_type": "markdown",
   "metadata": {},
   "source": [
    "One way to improve a model is to analyze the type of errors it makes. The confusion matrix we introduced earlier is a good way to do this. Let's look at our predictions from the tuned Random Forest model we found."
   ]
  },
  {
   "cell_type": "code",
   "execution_count": 21,
   "metadata": {},
   "outputs": [
    {
     "name": "stdout",
     "output_type": "stream",
     "text": [
      "Confusion matrix, without normalization\n"
     ]
    },
    {
     "data": {
      "image/png": "[encoded data removed]",
      "text/plain": [
       "<matplotlib.figure.Figure at 0x1202996d8>"
      ]
     },
     "metadata": {},
     "output_type": "display_data"
    }
   ],
   "source": [
    "y_train_pred = cross_val_predict(rf_tuned_clf,X_train,y_train,cv=3)\n",
    "confmat = confusion_matrix(y_train,y_train_pred)\n",
    "classes = [str(n) for n in range(0,10)]\n",
    "plot_confusion_matrix(confmat,classes, title='Random Forest Classifier',normalize=False)"
   ]
  },
  {
   "cell_type": "markdown",
   "metadata": {},
   "source": [
    "It's good that the diagonals are the darkest blue, with the digit 1 seeming to be the darkest. This could be because there are more images of 1 in the dataset or the classifier is really good at finding 1s. \n",
    "\n",
    "This is hard to see in the above, so lets normalize the confusion matrix. And also replace diagonals with zeros so it's easier to see the errors.\n"
   ]
  },
  {
   "cell_type": "code",
   "execution_count": 59,
   "metadata": {},
   "outputs": [
    {
     "name": "stdout",
     "output_type": "stream",
     "text": [
      "Normalized confusion matrix\n",
      "errors\n"
     ]
    },
    {
     "data": {
      "image/png": "[encoded data removed]",
      "text/plain": [
       "<matplotlib.figure.Figure at 0x114d49da0>"
      ]
     },
     "metadata": {},
     "output_type": "display_data"
    }
   ],
   "source": [
    "plot_confusion_matrix(confmat,classes, title='Random Forest Classifier',normalize=True,text=False,\n",
    "                      errors=True)"
   ]
  },
  {
   "cell_type": "markdown",
   "metadata": {},
   "source": [
    "With the diagonals removed we can see where the errors in classification are. For example we see that one of the highest error rates is for 4 to be classified as 9 and 3 misclassified as 2. The dark rows also tell us which digits are classified the best and the worst. The 0 and 1 rows are lightly shaded while 3 and 9 are darker and classified the least well. \n",
    "\n",
    "Efforts can be spent on improving classification of 3s, 4s and 9s, for example you could gather more training data for these digits. Or we could engineer new features that count the number of closed loops (two for 8, one for 9). We could also preprocess the images to make some patterns stand out more like closed loops.\n",
    "\n",
    "Let's plot samples of the 4s and 9s that correctly and incorrectly classified:"
   ]
  },
  {
   "cell_type": "code",
   "execution_count": 62,
   "metadata": {},
   "outputs": [
    {
     "data": {
      "image/png": "[encoded data removed]",
      "text/plain": [
       "<matplotlib.figure.Figure at 0x122e9f7b8>"
      ]
     },
     "metadata": {},
     "output_type": "display_data"
    }
   ],
   "source": [
    "#Find examples of correctly and incorrectly classified digits a and b\n",
    "cl_a=4;cl_b=9\n",
    "X_aa = X_train[(y_train==cl_a)&(y_train_pred==cl_a)]\n",
    "X_ab = X_train[(y_train==cl_a)&(y_train_pred==cl_b)]\n",
    "X_ba = X_train[(y_train==cl_b)&(y_train_pred==cl_a)]\n",
    "X_bb = X_train[(y_train==cl_b)&(y_train_pred==cl_b)]\n",
    "\n",
    "#Make plots\n",
    "fig,(axes) = plt.subplots(2,2,figsize=[8,8])\n",
    "plot_digits(X_aa[:25],images_per_row=5,ax=axes[0,0])\n",
    "plot_digits(X_ab[:25],images_per_row=5,ax=axes[0,1])\n",
    "plot_digits(X_ba[:25],images_per_row=5,ax=axes[1,0])\n",
    "plot_digits(X_bb[:25],images_per_row=5,ax=axes[1,1])"
   ]
  },
  {
   "cell_type": "markdown",
   "metadata": {},
   "source": [
    "The diagonals show images that are classified correctly, while the top right shows true 4s that are misclassified as 9s and the bottom left shows 9s that are misclassified as 4s. It seems like whether the 4 is open at the or closed plays a role and also if the 9 is properly looped and closed is important.\n",
    "\n",
    "Another part could be that the classifier is sensitive to image shifting and rotation. In the bottom left lots of the 9s are rotated so that they may look like 4s. Below we will implement data preparation to add extra features that also include the image shifted up, down, left, or right by one pixel. We will also add a rotate option as well.\n",
    "\n",
    "\n",
    "\n"
   ]
  },
  {
   "cell_type": "code",
   "execution_count": 28,
   "metadata": {},
   "outputs": [
    {
     "ename": "NameError",
     "evalue": "name 'some_digit' is not defined",
     "output_type": "error",
     "traceback": [
      "\u001b[0;31m---------------------------------------------------------------------------\u001b[0m",
      "\u001b[0;31mNameError\u001b[0m                                 Traceback (most recent call last)",
      "\u001b[0;32m<ipython-input-28-4a5c95e86b3f>\u001b[0m in \u001b[0;36m<module>\u001b[0;34m()\u001b[0m\n\u001b[1;32m     20\u001b[0m \u001b[0;31m# Test shifting by 5 pixels and rotating by 45 degrees\u001b[0m\u001b[0;34m\u001b[0m\u001b[0;34m\u001b[0m\u001b[0m\n\u001b[1;32m     21\u001b[0m \u001b[0mfig\u001b[0m\u001b[0;34m,\u001b[0m\u001b[0;34m(\u001b[0m\u001b[0max1\u001b[0m\u001b[0;34m,\u001b[0m\u001b[0max2\u001b[0m\u001b[0;34m,\u001b[0m\u001b[0max3\u001b[0m\u001b[0;34m)\u001b[0m \u001b[0;34m=\u001b[0m \u001b[0mplt\u001b[0m\u001b[0;34m.\u001b[0m\u001b[0msubplots\u001b[0m\u001b[0;34m(\u001b[0m\u001b[0;36m1\u001b[0m\u001b[0;34m,\u001b[0m\u001b[0;36m3\u001b[0m\u001b[0;34m,\u001b[0m \u001b[0mfigsize\u001b[0m\u001b[0;34m=\u001b[0m\u001b[0;34m[\u001b[0m\u001b[0;36m7\u001b[0m\u001b[0;34m,\u001b[0m\u001b[0;36m3\u001b[0m\u001b[0;34m]\u001b[0m\u001b[0;34m)\u001b[0m\u001b[0;34m\u001b[0m\u001b[0m\n\u001b[0;32m---> 22\u001b[0;31m \u001b[0mplot_digit\u001b[0m\u001b[0;34m(\u001b[0m \u001b[0msome_digit\u001b[0m\u001b[0;34m,\u001b[0m\u001b[0max\u001b[0m\u001b[0;34m=\u001b[0m\u001b[0max1\u001b[0m\u001b[0;34m)\u001b[0m\u001b[0;34m;\u001b[0m \u001b[0max1\u001b[0m\u001b[0;34m.\u001b[0m\u001b[0mset_title\u001b[0m\u001b[0;34m(\u001b[0m\u001b[0;34m'Original'\u001b[0m\u001b[0;34m)\u001b[0m\u001b[0;34m\u001b[0m\u001b[0m\n\u001b[0m\u001b[1;32m     23\u001b[0m \u001b[0mplot_digit\u001b[0m\u001b[0;34m(\u001b[0m \u001b[0mshift_digit\u001b[0m\u001b[0;34m(\u001b[0m\u001b[0msome_digit\u001b[0m\u001b[0;34m,\u001b[0m \u001b[0;36m10\u001b[0m\u001b[0;34m,\u001b[0m \u001b[0;36m1\u001b[0m\u001b[0;34m,\u001b[0m\u001b[0;34m)\u001b[0m\u001b[0;34m,\u001b[0m\u001b[0max\u001b[0m\u001b[0;34m=\u001b[0m\u001b[0max2\u001b[0m\u001b[0;34m)\u001b[0m\u001b[0;34m;\u001b[0m \u001b[0max2\u001b[0m\u001b[0;34m.\u001b[0m\u001b[0mset_title\u001b[0m\u001b[0;34m(\u001b[0m\u001b[0;34m'Shifted'\u001b[0m\u001b[0;34m)\u001b[0m\u001b[0;34m\u001b[0m\u001b[0m\n\u001b[1;32m     24\u001b[0m \u001b[0mplot_digit\u001b[0m\u001b[0;34m(\u001b[0m \u001b[0mrotate_digit\u001b[0m\u001b[0;34m(\u001b[0m\u001b[0msome_digit\u001b[0m\u001b[0;34m,\u001b[0m\u001b[0;34m-\u001b[0m\u001b[0;36m45\u001b[0m\u001b[0;34m)\u001b[0m\u001b[0;34m,\u001b[0m\u001b[0max\u001b[0m\u001b[0;34m=\u001b[0m\u001b[0max3\u001b[0m\u001b[0;34m)\u001b[0m\u001b[0;34m;\u001b[0m \u001b[0max3\u001b[0m\u001b[0;34m.\u001b[0m\u001b[0mset_title\u001b[0m\u001b[0;34m(\u001b[0m\u001b[0;34m'Rotated'\u001b[0m\u001b[0;34m)\u001b[0m\u001b[0;34m\u001b[0m\u001b[0m\n",
      "\u001b[0;31mNameError\u001b[0m: name 'some_digit' is not defined"
     ]
    },
    {
     "data": {
      "image/png": "[encoded data removed]",
      "text/plain": [
       "<matplotlib.figure.Figure at 0x120eccd30>"
      ]
     },
     "metadata": {},
     "output_type": "display_data"
    }
   ],
   "source": [
    "from scipy.ndimage.interpolation import shift,rotate\n",
    "import cv2 # for rotation\n",
    "\n",
    "# Shift image pixels horizontally (dx) and vertically (dy)\n",
    "def shift_digit(digit_array, dx, dy, new=0):\n",
    "    return shift(digit_array.reshape(28, 28), [dy, dx], cval=new).reshape(784)\n",
    "\n",
    "# Shift image pixels horizontally (dx) and vertically (dy)\n",
    "def rotate_digit(digit_array, dtheta, new=0):\n",
    "    digit_im = digit_array.reshape(28, 28)\n",
    "    # grab the dimensions of the image and calculate the center\n",
    "    # of the image\n",
    "    (h, w) = digit_im.shape[:2]\n",
    "    center = (w / 2, h / 2)\n",
    "    # rotate the image by dtheta degrees\n",
    "    M = cv2.getRotationMatrix2D(center, dtheta, 1.0)\n",
    "    rotated = cv2.warpAffine(digit_im, M, (w, h))\n",
    "    return rotated.reshape(784)\n",
    "\n",
    "# Test shifting by 5 pixels and rotating by 45 degrees\n",
    "fig,(ax1,ax2,ax3) = plt.subplots(1,3, figsize=[7,3])\n",
    "plot_digit( some_digit,ax=ax1); ax1.set_title('Original')\n",
    "plot_digit( shift_digit(some_digit, 10, 1,),ax=ax2); ax2.set_title('Shifted')\n",
    "plot_digit( rotate_digit(some_digit,-45),ax=ax3); ax3.set_title('Rotated')"
   ]
  },
  {
   "cell_type": "markdown",
   "metadata": {},
   "source": [
    "We've shown above we can shift the original digit and also rotate them as well. Next we'll shift up, down, left and right by 1 pixel and also rotate by 15 degrees in each direction.\n"
   ]
  },
  {
   "cell_type": "code",
   "execution_count": 29,
   "metadata": {},
   "outputs": [
    {
     "data": {
      "text/plain": [
       "((420000, 784), (420000,))"
      ]
     },
     "execution_count": 29,
     "metadata": {},
     "output_type": "execute_result"
    }
   ],
   "source": [
    "X_train_expanded = [X_train]\n",
    "y_train_expanded = [y_train]\n",
    "\n",
    "\n",
    "for dx, dy in ((1, 0), (-1, 0), (0, 1), (0, -1)):\n",
    "    shifted_images = np.apply_along_axis(shift_digit, axis=1, arr=X_train, dx=dx, dy=dy)\n",
    "    X_train_expanded.append(shifted_images)\n",
    "    y_train_expanded.append(y_train)\n",
    "\n",
    "for dtheta in [-15,15]:\n",
    "    rotated_images = np.apply_along_axis(rotate_digit, axis=1, arr=X_train, dtheta=dtheta)\n",
    "    X_train_expanded.append(rotated_images)\n",
    "    y_train_expanded.append(y_train)\n",
    "\n",
    "X_train_expanded = np.concatenate(X_train_expanded)\n",
    "y_train_expanded = np.concatenate(y_train_expanded)\n",
    "X_train_expanded.shape, y_train_expanded.shape "
   ]
  },
  {
   "cell_type": "markdown",
   "metadata": {},
   "source": [
    "Let's first try testing it on the SGD Classifier "
   ]
  },
  {
   "cell_type": "code",
   "execution_count": 30,
   "metadata": {},
   "outputs": [
    {
     "name": "stderr",
     "output_type": "stream",
     "text": [
      "/anaconda/lib/python3.6/site-packages/sklearn/utils/validation.py:429: DataConversionWarning: Data with input dtype uint8 was converted to float64 by StandardScaler.\n",
      "  warnings.warn(msg, _DataConversionWarning)\n"
     ]
    },
    {
     "data": {
      "text/plain": [
       "Pipeline(steps=[('scaler', StandardScaler(copy=True, with_mean=True, with_std=True)), ('clf', SGDClassifier(alpha=0.0001, average=False, class_weight=None, epsilon=0.1,\n",
       "       eta0=0.0, fit_intercept=True, l1_ratio=0.15,\n",
       "       learning_rate='optimal', loss='hinge', n_iter=5, n_jobs=1,\n",
       "       penalty='l2', power_t=0.5, random_state=42, shuffle=True, verbose=0,\n",
       "       warm_start=False))])"
      ]
     },
     "execution_count": 30,
     "metadata": {},
     "output_type": "execute_result"
    }
   ],
   "source": [
    "sgd_pipeline.fit(X_train_expanded,y_train_expanded)\n",
    "\n",
    "#rf_tuned_clf.fit(X_train_expanded,y_train_expanded)"
   ]
  },
  {
   "cell_type": "code",
   "execution_count": 34,
   "metadata": {},
   "outputs": [
    {
     "name": "stderr",
     "output_type": "stream",
     "text": [
      "/anaconda/lib/python3.6/site-packages/sklearn/utils/validation.py:429: DataConversionWarning: Data with input dtype uint8 was converted to float64 by StandardScaler.\n",
      "  warnings.warn(msg, _DataConversionWarning)\n"
     ]
    },
    {
     "name": "stdout",
     "output_type": "stream",
     "text": [
      "SGD on training set with shifted/scaled:  0.91015\n",
      "SGD on test set with shifted/scaled:  0.9126\n"
     ]
    }
   ],
   "source": [
    "y_test_pred_sgd = sgd_pipeline.predict(X_test)\n",
    "y_train_pred_sgd = sgd_pipeline.predict(X_train)\n",
    "\n",
    "print('SGD on training set with shifted/rotated: ',accuracy_score(y_train,y_train_pred_sgd))\n",
    "print('SGD on test set with shifted/rotated: ',accuracy_score(y_test,y_test_pred_sgd))"
   ]
  },
  {
   "cell_type": "markdown",
   "metadata": {},
   "source": [
    "Now let's update the random forest classifier with the expanded training set:"
   ]
  },
  {
   "cell_type": "code",
   "execution_count": 35,
   "metadata": {},
   "outputs": [
    {
     "data": {
      "text/plain": [
       "RandomForestClassifier(bootstrap=True, class_weight=None, criterion='gini',\n",
       "            max_depth=21, max_features='sqrt', max_leaf_nodes=None,\n",
       "            min_impurity_split=1e-07, min_samples_leaf=1,\n",
       "            min_samples_split=2, min_weight_fraction_leaf=0.0,\n",
       "            n_estimators=294, n_jobs=1, oob_score=False, random_state=42,\n",
       "            verbose=0, warm_start=False)"
      ]
     },
     "execution_count": 35,
     "metadata": {},
     "output_type": "execute_result"
    }
   ],
   "source": [
    "rf_tuned_clf.fit(X_train_expanded,y_train_expanded)"
   ]
  },
  {
   "cell_type": "code",
   "execution_count": 36,
   "metadata": {},
   "outputs": [
    {
     "name": "stdout",
     "output_type": "stream",
     "text": [
      "RF on training set with shifted/scaled:  0.9982\n",
      "RF on test set with shifted/scaled:  0.9799\n"
     ]
    }
   ],
   "source": [
    "y_test_pred_rfexp = rf_tuned_clf.predict(X_test)\n",
    "y_train_pred_rfexp = rf_tuned_clf.predict(X_train)\n",
    "\n",
    "print('RF on training set with shifted/rotated: ',accuracy_score(y_train,y_train_pred_rfexp))\n",
    "print('RF on test set with shifted/rotated: ',accuracy_score(y_test,y_test_pred_rfexp))"
   ]
  },
  {
   "cell_type": "markdown",
   "metadata": {},
   "source": [
    "Can see that with adding the shifted and rotated digits we can get the Random Forest classifier up to 98% accuracy on the test sets. We can probably get higher if we used a larger number of estimators but we don't want to incur such high computing costs in this exercise. "
   ]
  },
  {
   "cell_type": "markdown",
   "metadata": {},
   "source": [
    "## Multilabel Classification\n",
    "\n",
    "In some problems you would like multiple classes associated with a single instance. An example is facial recognition where if a photo contains multiple people, and the training set has the following people: Alice, Bob, and Charlie, then you would like the output of a photo with only Bob to be [0,1,0]. \n",
    "\n",
    "We can consider examples with the MNIST training set where we want to output if a digit is greater than 7 and if the digit is odd, using `KNeighborsClassifier` which support multilabel classification:"
   ]
  },
  {
   "cell_type": "code",
   "execution_count": 19,
   "metadata": {},
   "outputs": [
    {
     "name": "stderr",
     "output_type": "stream",
     "text": [
      "/Users/Justin/anaconda3/lib/python3.6/site-packages/sklearn/utils/validation.py:429: DataConversionWarning: Data with input dtype uint8 was converted to float64 by StandardScaler.\n",
      "  warnings.warn(msg, _DataConversionWarning)\n"
     ]
    },
    {
     "data": {
      "text/plain": [
       "Pipeline(steps=[('scaler', StandardScaler(copy=True, with_mean=True, with_std=True)), ('knn', KNeighborsClassifier(algorithm='auto', leaf_size=30, metric='minkowski',\n",
       "           metric_params=None, n_jobs=1, n_neighbors=5, p=2,\n",
       "           weights='uniform'))])"
      ]
     },
     "execution_count": 19,
     "metadata": {},
     "output_type": "execute_result"
    }
   ],
   "source": [
    "from sklearn.neighbors import KNeighborsClassifier\n",
    "\n",
    "y_train_large = (y_train>=7)\n",
    "y_train_odd = (y_train%2==1)\n",
    "# combine labels\n",
    "y_multilabel = np.c_[y_train_large,y_train_odd]\n",
    "\n",
    "# Fit KNN classifier\n",
    "knn_pipe = Pipeline( [ ('scaler', StandardScaler()), ('knn',KNeighborsClassifier()) ] )\n",
    "\n",
    "knn_pipe.fit(X_train,y_multilabel)"
   ]
  },
  {
   "cell_type": "markdown",
   "metadata": {},
   "source": [
    "Let's test it out on our test digit:"
   ]
  },
  {
   "cell_type": "code",
   "execution_count": 26,
   "metadata": {},
   "outputs": [
    {
     "name": "stdout",
     "output_type": "stream",
     "text": [
      "Prediction that digit is >= 7 : True\n",
      "Prediction that digit is odd:  True\n"
     ]
    },
    {
     "data": {
      "image/png": "[encoded data removed]",
      "text/plain": [
       "<matplotlib.figure.Figure at 0x11bcf24e0>"
      ]
     },
     "metadata": {},
     "output_type": "display_data"
    }
   ],
   "source": [
    "# Plot test digit\n",
    "plot_digit(some_digit)\n",
    "# Make predictions\n",
    "pred = knn_pipe.predict([some_digit])\n",
    "print('Prediction that digit is >= 7 :',pred[0][0])\n",
    "print('Prediction that digit is odd: ', pred[0][1])"
   ]
  },
  {
   "cell_type": "markdown",
   "metadata": {},
   "source": [
    "We can see that the prediction for both labels for the test digit is correct. \n",
    "\n",
    "For multilabel classification scoring metrics, we could measure the $F_1$ score for each individual label (or any other binary classifier metric) then compute the average score. This assumes that all labels are equally important, which may not be the case."
   ]
  },
  {
   "cell_type": "code",
   "execution_count": 29,
   "metadata": {},
   "outputs": [
    {
     "name": "stdout",
     "output_type": "stream",
     "text": [
      "F1 score average over labels:  0.961903993305\n"
     ]
    }
   ],
   "source": [
    "y_multi_pred = cross_val_predict(knn_pipe,X_train,y_multilabel,cv=3)\n",
    "# Calculate F1score average over labels\n",
    "f1score = f1_score(y_multilabel,y_multi_pred,average='macro')\n",
    "print('F1 score average over labels: ',f1score)\n"
   ]
  },
  {
   "cell_type": "markdown",
   "metadata": {},
   "source": [
    "If you have many more instances with Alice than of either Bob and Charlie, you would want to give more weight to the classifier's score on pictures of Alice. A solution is to give each label a weight equal to its support (the number of instances with the target label). Can do this by setting `average='weighted'` in the $F_1$ scorer function.\n",
    "\n",
    "## Multioutput Classification\n",
    "\n",
    "This type of classification is a step beyond the last section with multi-class classification where the labels can have more than two possible values.\n",
    "\n",
    "In this example we will build a multioutput classifier that removes noise form images. It will take as input a noisy digit imaage, and output a clean digit. The output is multilabel (one label per pixel) and each label can have multiple values (pixel intensity from 0 to 255).\n",
    "\n",
    "We begin by taking the training and test sets and adding noise to the pixel intensities. The target images are now the original images:"
   ]
  },
  {
   "cell_type": "code",
   "execution_count": 34,
   "metadata": {},
   "outputs": [
    {
     "data": {
      "image/png": "[encoded data removed]",
      "text/plain": [
       "<matplotlib.figure.Figure at 0x11bd18ef0>"
      ]
     },
     "metadata": {},
     "output_type": "display_data"
    }
   ],
   "source": [
    "# Make noise\n",
    "noise_train = np.random.randint(0,100,(len(X_train),784))\n",
    "noise_test  = np.random.randint(0,100,(len(X_test),784) )\n",
    "# Add noise to training and test sets\n",
    "X_train_noise = X_train + noise_train\n",
    "X_test_noise  = X_test + noise_test\n",
    "# Targets are previous original digits\n",
    "y_train_noise = X_train\n",
    "y_test_noise  = X_test\n",
    "\n",
    "# Plot noisy and true digit\n",
    "fig,(ax1,ax2) = plt.subplots(1,2,figsize=[5,2])\n",
    "plot_digit(X_test_noise[1500],ax=ax1)\n",
    "plot_digit(y_test_noise[1500],ax=ax2)"
   ]
  },
  {
   "cell_type": "markdown",
   "metadata": {},
   "source": [
    "Let's train a classifier and see if it cleans the image correctly:"
   ]
  },
  {
   "cell_type": "code",
   "execution_count": 36,
   "metadata": {},
   "outputs": [
    {
     "name": "stderr",
     "output_type": "stream",
     "text": [
      "/Users/Justin/anaconda3/lib/python3.6/site-packages/sklearn/utils/validation.py:429: DataConversionWarning: Data with input dtype int64 was converted to float64 by StandardScaler.\n",
      "  warnings.warn(msg, _DataConversionWarning)\n"
     ]
    },
    {
     "data": {
      "image/png": "[encoded data removed]",
      "text/plain": [
       "<matplotlib.figure.Figure at 0x1298ce470>"
      ]
     },
     "metadata": {},
     "output_type": "display_data"
    }
   ],
   "source": [
    "knn_pipe.fit(X_train_noise,y_train_noise)\n",
    "clean_digit = knn_pipe.predict([X_test_noise[1500]])\n",
    "plot_digit(clean_digit)"
   ]
  },
  {
   "cell_type": "markdown",
   "metadata": {},
   "source": [
    "We can see that the cleaned image looks close enough like our target."
   ]
  },
  {
   "cell_type": "markdown",
   "metadata": {},
   "source": [
    "## License"
   ]
  },
  {
   "cell_type": "markdown",
   "metadata": {},
   "source": [
    "The material in this notebook is made available under the [Creative Commons Attribution license](https://creativecommons.org/licenses/by-nc/4.0/)."
   ]
  }
 ],
 "metadata": {
  "kernelspec": {
   "display_name": "Python 3",
   "language": "python",
   "name": "python3"
  },
  "language_info": {
   "codemirror_mode": {
    "name": "ipython",
    "version": 3
   },
   "file_extension": ".py",
   "mimetype": "text/x-python",
   "name": "python",
   "nbconvert_exporter": "python",
   "pygments_lexer": "ipython3",
   "version": "3.6.3"
  }
 },
 "nbformat": 4,
 "nbformat_minor": 2
}
